{
 "cells": [
  {
   "cell_type": "markdown",
   "metadata": {},
   "source": [
    "<center><font color=#555555><font size=6> MAF1731 - Microstructure and Trading Systems </font> <br> <br>\n",
    "    \n",
    "<center><font color=#555555><font size=5> Ingeniería Financiera </font> <br> <br> <br> <br>\n",
    "\n",
    "<center><font color=#555555><font size=6> I.F. Cuauhtémoc Corrales Camacho (CCC) </font> <br> <br>\n",
    "<center><font color=#555555><font size=6> I.F. Esteban Marquez Delgado (EMD) </font> <br> <br>\n",
    "<center><font color=#555555><font size=6> I.F. Marco Antonio Ochoa Cárdenas (MAOC) </font> <br> <br>\n",
    "   \n",
    "<center> <font color= #555555> <font size = 4> Octubre 2022 </a> | <font color= #555555> <font size = 4> Repository: <a href='https://github.com/CuauhtemocCC/MyST_LAB_3_E3'>Link</a></font>"
   ]
  },
  {
   "cell_type": "markdown",
   "metadata": {},
   "source": [
    "<hr style=\"border:0.02in solid gray\"> </hr>"
   ]
  },
  {
   "cell_type": "markdown",
   "metadata": {},
   "source": [
    "<center> <font color= #555555> <font size = 6> Lab 3 </font> <br> <br> <font color= #555555> <font size = 5> Comportamiento Financiero  </font>"
   ]
  },
  {
   "cell_type": "markdown",
   "metadata": {},
   "source": [
    "<hr style=\"border:0.02in solid gray\"> </hr>"
   ]
  },
  {
   "cell_type": "markdown",
   "metadata": {},
   "source": [
    "# <font color= #6B6B6B> <font size = 6> 1. Introducción </font>"
   ]
  },
  {
   "cell_type": "markdown",
   "metadata": {},
   "source": [
    "<hr style=\"border:0.02in solid gray\"> </hr>"
   ]
  },
  {
   "cell_type": "markdown",
   "metadata": {},
   "source": [
    "Dia a día en el mundo de las inversiones, existen mil y un ofertas para colocar nuestros recursos económicos, sin embargo, como podemos estar seguros de que la persona a cargo es un guru de las finanzas o tal vez solamente un tipo con un curso de trading por internet, tampoco es debamos desconfiar de cualquier persona o institución, hay empresas e individuos que han dedicado una enorme cantidad de tiempo a formarse una reputación, pero al final, al final de todo, los que llevan a cabo la toma de decisiones en este mundo son humanos y como humanos inherentemente tienen sentimientos y prejucios parecidos a los de los demás, tampoco es que cualquier persona pueda dedicarse al trading claro está, pero si podemos evaluar y traer a la consciencia los sesgos de conducata más comunes que tienden a cometer los traders, para posteriormente generar estrategias que ayuden a contrarestarlos, pero al mismo tiempo por parte de los clientes poder evalaur a los gestores.\n",
    "\n",
    "Dentro de las inversiones podemos tener muchas maneras en las que podemos estar invirtiendo con aversiones al riesgo y en búsqueda de distintos rendimientos dependiendo de ellos, una vez que se tiene pensado invertir en instrumentos bursátiles que pueden tener un porcentaje de riesgo o con una aversión media alta al riesgo podemos optar en el trading como una buena opción para invertir, dentro del trading podemos destacar algunas definiciones que son importantes para conocer un poco más acerca del tema. En este laboratorio se tienen algunas definiciones como el draw up y draw down (se definirán más adelante en el proyecto). Uno de los puntos más importantes es la inversión racional la cual se define como aquella inversión que busca maximizar el beneficio entre alternativas de igual nivel de riesgo es decir elegir la inversión que más rendimiento nos pueda dar teniendo el mínimo riesgo. \n",
    "Otra de las definiciones que tenemos que conocer en este laboratorio es el sesgo de inversión el cual se define como la tendencia a sobreestimar los conocimientos y juicios subjetivos y considerarlos certeros. A la hora de tomar decisiones y realizar pronósticos, se sobrevaloran los conocimientos y la experiencia personal sin tener en cuenta la diferencia entre lo que se sabe realmente y lo que se cree saber.\n"
   ]
  },
  {
   "cell_type": "markdown",
   "metadata": {},
   "source": [
    "# <font color= #6B6B6B> 2. Objetivos </font>"
   ]
  },
  {
   "cell_type": "markdown",
   "metadata": {},
   "source": [
    "<hr style=\"border:0.02in solid gray\"> </hr>"
   ]
  },
  {
   "cell_type": "markdown",
   "metadata": {},
   "source": [
    "Analizar datos sobre posiciones de trading con el fin de detectar sesgos de comportamientos en dichas operaciones."
   ]
  },
  {
   "cell_type": "markdown",
   "metadata": {},
   "source": [
    "# <font color= #6B6B6B> 3. Descripción de Datos </font>"
   ]
  },
  {
   "cell_type": "markdown",
   "metadata": {},
   "source": [
    "<hr style=\"border:0.02in solid gray\"> </hr>"
   ]
  },
  {
   "cell_type": "code",
   "execution_count": 1,
   "metadata": {},
   "outputs": [
    {
     "name": "stdout",
     "output_type": "stream",
     "text": [
      "[*********************100%***********************]  1 of 1 completed\n",
      "[*********************100%***********************]  1 of 1 completed\n",
      "[*********************100%***********************]  1 of 1 completed\n"
     ]
    }
   ],
   "source": [
    "# Importacion de Paqueterias\n",
    "\n",
    "import data as dt\n",
    "import visualizations as vs\n",
    "import pandas as pd\n",
    "import functions as fn"
   ]
  },
  {
   "cell_type": "markdown",
   "metadata": {},
   "source": [
    "## <font color= #6B6B6B> 3.1 Importación: Tablas de posiciones </font>"
   ]
  },
  {
   "cell_type": "markdown",
   "metadata": {},
   "source": [
    "Para dar inicio con este proyecto se requerió de nuestras tablas de posiciones obtenidos en la elaboracion del Laboratorio 2, donde durante un periodo de tiempo determinado se desarrollo un metodo de trading para cada integrante. \n"
   ]
  },
  {
   "cell_type": "code",
   "execution_count": 2,
   "metadata": {},
   "outputs": [
    {
     "data": {
      "text/html": [
       "<div>\n",
       "<style scoped>\n",
       "    .dataframe tbody tr th:only-of-type {\n",
       "        vertical-align: middle;\n",
       "    }\n",
       "\n",
       "    .dataframe tbody tr th {\n",
       "        vertical-align: top;\n",
       "    }\n",
       "\n",
       "    .dataframe thead th {\n",
       "        text-align: right;\n",
       "    }\n",
       "</style>\n",
       "<table border=\"1\" class=\"dataframe\">\n",
       "  <thead>\n",
       "    <tr style=\"text-align: right;\">\n",
       "      <th></th>\n",
       "      <th>Fecha/Hora</th>\n",
       "      <th>Posición</th>\n",
       "      <th>Símbolo</th>\n",
       "      <th>Tipo</th>\n",
       "      <th>Volumen</th>\n",
       "      <th>Precio</th>\n",
       "      <th>S / L</th>\n",
       "      <th>T / P</th>\n",
       "      <th>Fecha/Hora.1</th>\n",
       "      <th>Precio.1</th>\n",
       "      <th>...</th>\n",
       "      <th>profit_acum</th>\n",
       "      <th>Ops Totales</th>\n",
       "      <th>Ops Ganadoras</th>\n",
       "      <th>Ops Perdedoras</th>\n",
       "      <th>Ops Ganadoras_C</th>\n",
       "      <th>Ops Perdedoras_C</th>\n",
       "      <th>Ops Ganadoras_V</th>\n",
       "      <th>Ops Perdedoras_V</th>\n",
       "      <th>day</th>\n",
       "      <th>Capital</th>\n",
       "    </tr>\n",
       "  </thead>\n",
       "  <tbody>\n",
       "    <tr>\n",
       "      <th>0</th>\n",
       "      <td>2022.09.15 21:17:28</td>\n",
       "      <td>58586674</td>\n",
       "      <td>EURUSD</td>\n",
       "      <td>buy</td>\n",
       "      <td>0.01</td>\n",
       "      <td>0.9995</td>\n",
       "      <td>0.9992</td>\n",
       "      <td>0.99955</td>\n",
       "      <td>2022.09.15 21:18:35</td>\n",
       "      <td>0.99955</td>\n",
       "      <td>...</td>\n",
       "      <td>0.05</td>\n",
       "      <td>1.0</td>\n",
       "      <td>1.0</td>\n",
       "      <td>0.0</td>\n",
       "      <td>1.0</td>\n",
       "      <td>0.0</td>\n",
       "      <td>0.0</td>\n",
       "      <td>0.0</td>\n",
       "      <td>2022-09-15</td>\n",
       "      <td>100000.05</td>\n",
       "    </tr>\n",
       "    <tr>\n",
       "      <th>1</th>\n",
       "      <td>2022.09.15 21:21:39</td>\n",
       "      <td>58586767</td>\n",
       "      <td>EURUSD</td>\n",
       "      <td>buy</td>\n",
       "      <td>0.10</td>\n",
       "      <td>0.9998</td>\n",
       "      <td>0.9995</td>\n",
       "      <td>0.99980</td>\n",
       "      <td>2022.09.15 21:23:43</td>\n",
       "      <td>0.99950</td>\n",
       "      <td>...</td>\n",
       "      <td>-2.95</td>\n",
       "      <td>1.0</td>\n",
       "      <td>0.0</td>\n",
       "      <td>1.0</td>\n",
       "      <td>0.0</td>\n",
       "      <td>1.0</td>\n",
       "      <td>0.0</td>\n",
       "      <td>0.0</td>\n",
       "      <td>2022-09-15</td>\n",
       "      <td>99997.05</td>\n",
       "    </tr>\n",
       "    <tr>\n",
       "      <th>2</th>\n",
       "      <td>2022.09.16 21:52:23</td>\n",
       "      <td>58630858</td>\n",
       "      <td>USDJPY</td>\n",
       "      <td>sell</td>\n",
       "      <td>0.10</td>\n",
       "      <td>142.9020</td>\n",
       "      <td>142.9400</td>\n",
       "      <td>142.82000</td>\n",
       "      <td>2022.09.16 21:54:30</td>\n",
       "      <td>142.94000</td>\n",
       "      <td>...</td>\n",
       "      <td>-5.61</td>\n",
       "      <td>1.0</td>\n",
       "      <td>0.0</td>\n",
       "      <td>1.0</td>\n",
       "      <td>0.0</td>\n",
       "      <td>0.0</td>\n",
       "      <td>0.0</td>\n",
       "      <td>1.0</td>\n",
       "      <td>2022-09-16</td>\n",
       "      <td>99994.39</td>\n",
       "    </tr>\n",
       "  </tbody>\n",
       "</table>\n",
       "<p>3 rows × 29 columns</p>\n",
       "</div>"
      ],
      "text/plain": [
       "            Fecha/Hora  Posición Símbolo  Tipo  Volumen    Precio     S / L  \\\n",
       "0  2022.09.15 21:17:28  58586674  EURUSD   buy     0.01    0.9995    0.9992   \n",
       "1  2022.09.15 21:21:39  58586767  EURUSD   buy     0.10    0.9998    0.9995   \n",
       "2  2022.09.16 21:52:23  58630858  USDJPY  sell     0.10  142.9020  142.9400   \n",
       "\n",
       "       T / P         Fecha/Hora.1   Precio.1  ...  profit_acum  Ops Totales  \\\n",
       "0    0.99955  2022.09.15 21:18:35    0.99955  ...         0.05          1.0   \n",
       "1    0.99980  2022.09.15 21:23:43    0.99950  ...        -2.95          1.0   \n",
       "2  142.82000  2022.09.16 21:54:30  142.94000  ...        -5.61          1.0   \n",
       "\n",
       "   Ops Ganadoras  Ops Perdedoras Ops Ganadoras_C Ops Perdedoras_C  \\\n",
       "0            1.0             0.0             1.0              0.0   \n",
       "1            0.0             1.0             0.0              1.0   \n",
       "2            0.0             1.0             0.0              0.0   \n",
       "\n",
       "  Ops Ganadoras_V  Ops Perdedoras_V         day    Capital  \n",
       "0             0.0               0.0  2022-09-15  100000.05  \n",
       "1             0.0               0.0  2022-09-15   99997.05  \n",
       "2             0.0               1.0  2022-09-16   99994.39  \n",
       "\n",
       "[3 rows x 29 columns]"
      ]
     },
     "execution_count": 2,
     "metadata": {},
     "output_type": "execute_result"
    }
   ],
   "source": [
    "# Segmento base de posiciones \n",
    "dt.datos_c.head(3)"
   ]
  },
  {
   "cell_type": "markdown",
   "metadata": {},
   "source": [
    "Con la tabla de posiciones, se siguieron instrucciones de implementar dos cambios extras, el primero fue adaptar las columnas de precio y precio.1 como *opentime* y *closetime*, para volcer dichas importantes variables indetificables y en el formato adecuado para el resto del proceso. "
   ]
  },
  {
   "cell_type": "code",
   "execution_count": 3,
   "metadata": {},
   "outputs": [
    {
     "data": {
      "text/html": [
       "<div>\n",
       "<style scoped>\n",
       "    .dataframe tbody tr th:only-of-type {\n",
       "        vertical-align: middle;\n",
       "    }\n",
       "\n",
       "    .dataframe tbody tr th {\n",
       "        vertical-align: top;\n",
       "    }\n",
       "\n",
       "    .dataframe thead th {\n",
       "        text-align: right;\n",
       "    }\n",
       "</style>\n",
       "<table border=\"1\" class=\"dataframe\">\n",
       "  <thead>\n",
       "    <tr style=\"text-align: right;\">\n",
       "      <th></th>\n",
       "      <th>Fecha/Hora</th>\n",
       "      <th>Posición</th>\n",
       "      <th>Símbolo</th>\n",
       "      <th>Tipo</th>\n",
       "      <th>Volumen</th>\n",
       "      <th>Precio</th>\n",
       "      <th>S / L</th>\n",
       "      <th>T / P</th>\n",
       "      <th>Fecha/Hora.1</th>\n",
       "      <th>Precio.1</th>\n",
       "      <th>...</th>\n",
       "      <th>profit_acum</th>\n",
       "      <th>Ops Totales</th>\n",
       "      <th>Ops Ganadoras</th>\n",
       "      <th>Ops Perdedoras</th>\n",
       "      <th>Ops Ganadoras_C</th>\n",
       "      <th>Ops Perdedoras_C</th>\n",
       "      <th>Ops Ganadoras_V</th>\n",
       "      <th>Ops Perdedoras_V</th>\n",
       "      <th>day</th>\n",
       "      <th>Capital</th>\n",
       "    </tr>\n",
       "  </thead>\n",
       "  <tbody>\n",
       "    <tr>\n",
       "      <th>0</th>\n",
       "      <td>2022.09.15 21:17:28</td>\n",
       "      <td>58586674</td>\n",
       "      <td>EURUSD</td>\n",
       "      <td>buy</td>\n",
       "      <td>0.01</td>\n",
       "      <td>0.9995</td>\n",
       "      <td>0.9992</td>\n",
       "      <td>0.99955</td>\n",
       "      <td>2022.09.15 21:18:35</td>\n",
       "      <td>0.99955</td>\n",
       "      <td>...</td>\n",
       "      <td>0.05</td>\n",
       "      <td>1.0</td>\n",
       "      <td>1.0</td>\n",
       "      <td>0.0</td>\n",
       "      <td>1.0</td>\n",
       "      <td>0.0</td>\n",
       "      <td>0.0</td>\n",
       "      <td>0.0</td>\n",
       "      <td>2022-09-15</td>\n",
       "      <td>100000.05</td>\n",
       "    </tr>\n",
       "    <tr>\n",
       "      <th>1</th>\n",
       "      <td>2022.09.15 21:21:39</td>\n",
       "      <td>58586767</td>\n",
       "      <td>EURUSD</td>\n",
       "      <td>buy</td>\n",
       "      <td>0.10</td>\n",
       "      <td>0.9998</td>\n",
       "      <td>0.9995</td>\n",
       "      <td>0.99980</td>\n",
       "      <td>2022.09.15 21:23:43</td>\n",
       "      <td>0.99950</td>\n",
       "      <td>...</td>\n",
       "      <td>-2.95</td>\n",
       "      <td>1.0</td>\n",
       "      <td>0.0</td>\n",
       "      <td>1.0</td>\n",
       "      <td>0.0</td>\n",
       "      <td>1.0</td>\n",
       "      <td>0.0</td>\n",
       "      <td>0.0</td>\n",
       "      <td>2022-09-15</td>\n",
       "      <td>99997.05</td>\n",
       "    </tr>\n",
       "    <tr>\n",
       "      <th>2</th>\n",
       "      <td>2022.09.16 21:52:23</td>\n",
       "      <td>58630858</td>\n",
       "      <td>USDJPY</td>\n",
       "      <td>sell</td>\n",
       "      <td>0.10</td>\n",
       "      <td>142.9020</td>\n",
       "      <td>142.9400</td>\n",
       "      <td>142.82000</td>\n",
       "      <td>2022.09.16 21:54:30</td>\n",
       "      <td>142.94000</td>\n",
       "      <td>...</td>\n",
       "      <td>-5.61</td>\n",
       "      <td>1.0</td>\n",
       "      <td>0.0</td>\n",
       "      <td>1.0</td>\n",
       "      <td>0.0</td>\n",
       "      <td>0.0</td>\n",
       "      <td>0.0</td>\n",
       "      <td>1.0</td>\n",
       "      <td>2022-09-16</td>\n",
       "      <td>99994.39</td>\n",
       "    </tr>\n",
       "  </tbody>\n",
       "</table>\n",
       "<p>3 rows × 29 columns</p>\n",
       "</div>"
      ],
      "text/plain": [
       "            Fecha/Hora  Posición Símbolo  Tipo  Volumen    Precio     S / L  \\\n",
       "0  2022.09.15 21:17:28  58586674  EURUSD   buy     0.01    0.9995    0.9992   \n",
       "1  2022.09.15 21:21:39  58586767  EURUSD   buy     0.10    0.9998    0.9995   \n",
       "2  2022.09.16 21:52:23  58630858  USDJPY  sell     0.10  142.9020  142.9400   \n",
       "\n",
       "       T / P         Fecha/Hora.1   Precio.1  ...  profit_acum  Ops Totales  \\\n",
       "0    0.99955  2022.09.15 21:18:35    0.99955  ...         0.05          1.0   \n",
       "1    0.99980  2022.09.15 21:23:43    0.99950  ...        -2.95          1.0   \n",
       "2  142.82000  2022.09.16 21:54:30  142.94000  ...        -5.61          1.0   \n",
       "\n",
       "   Ops Ganadoras  Ops Perdedoras Ops Ganadoras_C Ops Perdedoras_C  \\\n",
       "0            1.0             0.0             1.0              0.0   \n",
       "1            0.0             1.0             0.0              1.0   \n",
       "2            0.0             1.0             0.0              0.0   \n",
       "\n",
       "  Ops Ganadoras_V  Ops Perdedoras_V         day    Capital  \n",
       "0             0.0               0.0  2022-09-15  100000.05  \n",
       "1             0.0               0.0  2022-09-15   99997.05  \n",
       "2             0.0               1.0  2022-09-16   99994.39  \n",
       "\n",
       "[3 rows x 29 columns]"
      ]
     },
     "execution_count": 3,
     "metadata": {},
     "output_type": "execute_result"
    }
   ],
   "source": [
    "# Cambio 2\n",
    "dt.datos2_c.head(3)"
   ]
  },
  {
   "cell_type": "markdown",
   "metadata": {},
   "source": [
    "El siguiente paso fue establecer metricas atribuidas al beneficio acumulado en le capital tras cada posicion asi como tambien el calculo de los pips que se ganaron o pedieron tras cada operacion y establecer un cuenta que contara su acumulado."
   ]
  },
  {
   "cell_type": "code",
   "execution_count": 4,
   "metadata": {},
   "outputs": [
    {
     "data": {
      "text/html": [
       "<div>\n",
       "<style scoped>\n",
       "    .dataframe tbody tr th:only-of-type {\n",
       "        vertical-align: middle;\n",
       "    }\n",
       "\n",
       "    .dataframe tbody tr th {\n",
       "        vertical-align: top;\n",
       "    }\n",
       "\n",
       "    .dataframe thead th {\n",
       "        text-align: right;\n",
       "    }\n",
       "</style>\n",
       "<table border=\"1\" class=\"dataframe\">\n",
       "  <thead>\n",
       "    <tr style=\"text-align: right;\">\n",
       "      <th></th>\n",
       "      <th>Fecha/Hora</th>\n",
       "      <th>Posición</th>\n",
       "      <th>Símbolo</th>\n",
       "      <th>Tipo</th>\n",
       "      <th>Volumen</th>\n",
       "      <th>Precio</th>\n",
       "      <th>S / L</th>\n",
       "      <th>T / P</th>\n",
       "      <th>Fecha/Hora.1</th>\n",
       "      <th>Precio.1</th>\n",
       "      <th>...</th>\n",
       "      <th>profit_acum</th>\n",
       "      <th>Ops Totales</th>\n",
       "      <th>Ops Ganadoras</th>\n",
       "      <th>Ops Perdedoras</th>\n",
       "      <th>Ops Ganadoras_C</th>\n",
       "      <th>Ops Perdedoras_C</th>\n",
       "      <th>Ops Ganadoras_V</th>\n",
       "      <th>Ops Perdedoras_V</th>\n",
       "      <th>day</th>\n",
       "      <th>Capital</th>\n",
       "    </tr>\n",
       "  </thead>\n",
       "  <tbody>\n",
       "    <tr>\n",
       "      <th>0</th>\n",
       "      <td>2022.09.15 21:17:28</td>\n",
       "      <td>58586674</td>\n",
       "      <td>EURUSD</td>\n",
       "      <td>buy</td>\n",
       "      <td>0.01</td>\n",
       "      <td>0.9995</td>\n",
       "      <td>0.9992</td>\n",
       "      <td>0.99955</td>\n",
       "      <td>2022.09.15 21:18:35</td>\n",
       "      <td>0.99955</td>\n",
       "      <td>...</td>\n",
       "      <td>0.05</td>\n",
       "      <td>1.0</td>\n",
       "      <td>1.0</td>\n",
       "      <td>0.0</td>\n",
       "      <td>1.0</td>\n",
       "      <td>0.0</td>\n",
       "      <td>0.0</td>\n",
       "      <td>0.0</td>\n",
       "      <td>2022-09-15</td>\n",
       "      <td>100000.05</td>\n",
       "    </tr>\n",
       "    <tr>\n",
       "      <th>1</th>\n",
       "      <td>2022.09.15 21:21:39</td>\n",
       "      <td>58586767</td>\n",
       "      <td>EURUSD</td>\n",
       "      <td>buy</td>\n",
       "      <td>0.10</td>\n",
       "      <td>0.9998</td>\n",
       "      <td>0.9995</td>\n",
       "      <td>0.99980</td>\n",
       "      <td>2022.09.15 21:23:43</td>\n",
       "      <td>0.99950</td>\n",
       "      <td>...</td>\n",
       "      <td>-2.95</td>\n",
       "      <td>1.0</td>\n",
       "      <td>0.0</td>\n",
       "      <td>1.0</td>\n",
       "      <td>0.0</td>\n",
       "      <td>1.0</td>\n",
       "      <td>0.0</td>\n",
       "      <td>0.0</td>\n",
       "      <td>2022-09-15</td>\n",
       "      <td>99997.05</td>\n",
       "    </tr>\n",
       "    <tr>\n",
       "      <th>2</th>\n",
       "      <td>2022.09.16 21:52:23</td>\n",
       "      <td>58630858</td>\n",
       "      <td>USDJPY</td>\n",
       "      <td>sell</td>\n",
       "      <td>0.10</td>\n",
       "      <td>142.9020</td>\n",
       "      <td>142.9400</td>\n",
       "      <td>142.82000</td>\n",
       "      <td>2022.09.16 21:54:30</td>\n",
       "      <td>142.94000</td>\n",
       "      <td>...</td>\n",
       "      <td>-5.61</td>\n",
       "      <td>1.0</td>\n",
       "      <td>0.0</td>\n",
       "      <td>1.0</td>\n",
       "      <td>0.0</td>\n",
       "      <td>0.0</td>\n",
       "      <td>0.0</td>\n",
       "      <td>1.0</td>\n",
       "      <td>2022-09-16</td>\n",
       "      <td>99994.39</td>\n",
       "    </tr>\n",
       "  </tbody>\n",
       "</table>\n",
       "<p>3 rows × 29 columns</p>\n",
       "</div>"
      ],
      "text/plain": [
       "            Fecha/Hora  Posición Símbolo  Tipo  Volumen    Precio     S / L  \\\n",
       "0  2022.09.15 21:17:28  58586674  EURUSD   buy     0.01    0.9995    0.9992   \n",
       "1  2022.09.15 21:21:39  58586767  EURUSD   buy     0.10    0.9998    0.9995   \n",
       "2  2022.09.16 21:52:23  58630858  USDJPY  sell     0.10  142.9020  142.9400   \n",
       "\n",
       "       T / P         Fecha/Hora.1   Precio.1  ...  profit_acum  Ops Totales  \\\n",
       "0    0.99955  2022.09.15 21:18:35    0.99955  ...         0.05          1.0   \n",
       "1    0.99980  2022.09.15 21:23:43    0.99950  ...        -2.95          1.0   \n",
       "2  142.82000  2022.09.16 21:54:30  142.94000  ...        -5.61          1.0   \n",
       "\n",
       "   Ops Ganadoras  Ops Perdedoras Ops Ganadoras_C Ops Perdedoras_C  \\\n",
       "0            1.0             0.0             1.0              0.0   \n",
       "1            0.0             1.0             0.0              1.0   \n",
       "2            0.0             1.0             0.0              0.0   \n",
       "\n",
       "  Ops Ganadoras_V  Ops Perdedoras_V         day    Capital  \n",
       "0             0.0               0.0  2022-09-15  100000.05  \n",
       "1             0.0               0.0  2022-09-15   99997.05  \n",
       "2             0.0               1.0  2022-09-16   99994.39  \n",
       "\n",
       "[3 rows x 29 columns]"
      ]
     },
     "execution_count": 4,
     "metadata": {},
     "output_type": "execute_result"
    }
   ],
   "source": [
    "# Cambio 3\n",
    "dt.datos3_c.head(3)"
   ]
  },
  {
   "cell_type": "markdown",
   "metadata": {},
   "source": [
    "Ademas de estos procesos, se establecieron algunas variables de soporte que seran de ayuda para los siguientes procesos, la mayoria de estas se identifican como vectores de conteo de 1s.\n",
    "Al final de todos los preparativos, esta columnas quedaron en nuestra tabla base."
   ]
  },
  {
   "cell_type": "code",
   "execution_count": 5,
   "metadata": {},
   "outputs": [
    {
     "data": {
      "text/plain": [
       "Index(['Fecha/Hora', 'Posición', 'Símbolo', 'Tipo', 'Volumen', 'Precio',\n",
       "       'S / L', 'T / P', 'Fecha/Hora.1', 'Precio.1', 'Comisión', 'Swap',\n",
       "       'Beneficio', 'Lote', 'opentime', 'closetime', 'time(seconds)', 'pips',\n",
       "       'pips_acum', 'profit_acum', 'Ops Totales', 'Ops Ganadoras',\n",
       "       'Ops Perdedoras', 'Ops Ganadoras_C', 'Ops Perdedoras_C',\n",
       "       'Ops Ganadoras_V', 'Ops Perdedoras_V', 'day', 'Capital'],\n",
       "      dtype='object')"
      ]
     },
     "execution_count": 5,
     "metadata": {},
     "output_type": "execute_result"
    }
   ],
   "source": [
    "# Columnas tabla base\n",
    "dt.datos3_c.columns"
   ]
  },
  {
   "cell_type": "markdown",
   "metadata": {},
   "source": [
    "# <font color= #6B6B6B> 4. Procesos  </font>"
   ]
  },
  {
   "cell_type": "markdown",
   "metadata": {},
   "source": [
    "<hr style=\"border:0.02in solid gray\"> </hr>"
   ]
  },
  {
   "cell_type": "markdown",
   "metadata": {},
   "source": [
    "A continuación se describiran los procesos realizados para gestionar el analisis de cada una de las posiciones con el fin de obtener metricas conclusivas de medicion, asi como definir el tipo de comportamiento que cada integrante desarrollo al momento de realizar su trading correspondiente."
   ]
  },
  {
   "cell_type": "markdown",
   "metadata": {},
   "source": [
    "## <font color= #6B6B6B> 4.1 Tabla Operaciones  </font>"
   ]
  },
  {
   "cell_type": "markdown",
   "metadata": {},
   "source": [
    "A partir de nuestra base inicial establecida, el primer analisis sera uno del tipo descriptivo, donde se contaran las operaciones ganadoras y perdedoras en trading de cada uno de los integrantes, asi como el rendimiento en pips y pondereciones entre los tres conceptos, tales como serian la efectividad total de las operaciones, las tasas de proporcion de operaciones ganadoras y perdedoras sobre el total, y la ganancia media y mediana de las inversiones."
   ]
  },
  {
   "cell_type": "code",
   "execution_count": 6,
   "metadata": {},
   "outputs": [
    {
     "data": {
      "text/html": [
       "<div>\n",
       "<style scoped>\n",
       "    .dataframe tbody tr th:only-of-type {\n",
       "        vertical-align: middle;\n",
       "    }\n",
       "\n",
       "    .dataframe tbody tr th {\n",
       "        vertical-align: top;\n",
       "    }\n",
       "\n",
       "    .dataframe thead th {\n",
       "        text-align: right;\n",
       "    }\n",
       "</style>\n",
       "<table border=\"1\" class=\"dataframe\">\n",
       "  <thead>\n",
       "    <tr style=\"text-align: right;\">\n",
       "      <th></th>\n",
       "      <th>medidas</th>\n",
       "      <th>valor</th>\n",
       "      <th>descripcion</th>\n",
       "    </tr>\n",
       "  </thead>\n",
       "  <tbody>\n",
       "    <tr>\n",
       "      <th>0</th>\n",
       "      <td>Ops totales</td>\n",
       "      <td>28.000</td>\n",
       "      <td>Operaciones totales</td>\n",
       "    </tr>\n",
       "    <tr>\n",
       "      <th>1</th>\n",
       "      <td>Ganadoras</td>\n",
       "      <td>14.000</td>\n",
       "      <td>Operaciones ganadoras</td>\n",
       "    </tr>\n",
       "    <tr>\n",
       "      <th>2</th>\n",
       "      <td>Ganadoras_c</td>\n",
       "      <td>5.000</td>\n",
       "      <td>Operaciones ganadoras de compra</td>\n",
       "    </tr>\n",
       "    <tr>\n",
       "      <th>3</th>\n",
       "      <td>Ganadoras_v</td>\n",
       "      <td>9.000</td>\n",
       "      <td>Operaciones perdedoras de venta</td>\n",
       "    </tr>\n",
       "    <tr>\n",
       "      <th>4</th>\n",
       "      <td>Perdedoras</td>\n",
       "      <td>14.000</td>\n",
       "      <td>Operaciones perdedoras</td>\n",
       "    </tr>\n",
       "    <tr>\n",
       "      <th>5</th>\n",
       "      <td>Perdedoras_c</td>\n",
       "      <td>6.000</td>\n",
       "      <td>Operaciones perdedoras de compra</td>\n",
       "    </tr>\n",
       "    <tr>\n",
       "      <th>6</th>\n",
       "      <td>Perdedoras_v</td>\n",
       "      <td>8.000</td>\n",
       "      <td>Operaciones perdedoras de venta</td>\n",
       "    </tr>\n",
       "    <tr>\n",
       "      <th>7</th>\n",
       "      <td>Mediana (Profit)</td>\n",
       "      <td>0.025</td>\n",
       "      <td>Mediana de profit de operaciones</td>\n",
       "    </tr>\n",
       "    <tr>\n",
       "      <th>8</th>\n",
       "      <td>Mediana (Pips)</td>\n",
       "      <td>0.025</td>\n",
       "      <td>Mediana de pips de operaciones</td>\n",
       "    </tr>\n",
       "    <tr>\n",
       "      <th>9</th>\n",
       "      <td>r_efectividad</td>\n",
       "      <td>0.500</td>\n",
       "      <td>Ganadoras Totales/Operaciones Totales</td>\n",
       "    </tr>\n",
       "    <tr>\n",
       "      <th>10</th>\n",
       "      <td>r_proporcion</td>\n",
       "      <td>1.000</td>\n",
       "      <td>Ganadoras Totales/Perdedoras Totales</td>\n",
       "    </tr>\n",
       "    <tr>\n",
       "      <th>11</th>\n",
       "      <td>r_efectividad_c</td>\n",
       "      <td>0.179</td>\n",
       "      <td>Ganadoras Compras/Operaciones Totales</td>\n",
       "    </tr>\n",
       "    <tr>\n",
       "      <th>12</th>\n",
       "      <td>r_efectividad_v</td>\n",
       "      <td>0.321</td>\n",
       "      <td>Ganadoras Ventas/ Operaciones Totales</td>\n",
       "    </tr>\n",
       "  </tbody>\n",
       "</table>\n",
       "</div>"
      ],
      "text/plain": [
       "             medidas   valor                            descripcion\n",
       "0        Ops totales  28.000                    Operaciones totales\n",
       "1          Ganadoras  14.000                  Operaciones ganadoras\n",
       "2        Ganadoras_c   5.000        Operaciones ganadoras de compra\n",
       "3        Ganadoras_v   9.000        Operaciones perdedoras de venta\n",
       "4         Perdedoras  14.000                 Operaciones perdedoras\n",
       "5       Perdedoras_c   6.000       Operaciones perdedoras de compra\n",
       "6       Perdedoras_v   8.000        Operaciones perdedoras de venta\n",
       "7   Mediana (Profit)   0.025       Mediana de profit de operaciones\n",
       "8     Mediana (Pips)   0.025         Mediana de pips de operaciones\n",
       "9      r_efectividad   0.500  Ganadoras Totales/Operaciones Totales\n",
       "10      r_proporcion   1.000   Ganadoras Totales/Perdedoras Totales\n",
       "11   r_efectividad_c   0.179  Ganadoras Compras/Operaciones Totales\n",
       "12   r_efectividad_v   0.321  Ganadoras Ventas/ Operaciones Totales"
      ]
     },
     "execution_count": 6,
     "metadata": {},
     "output_type": "execute_result"
    }
   ],
   "source": [
    "# Tabla decriptiva de operaciones y beneficios, CCC\n",
    "dt.df_1_tabla_c"
   ]
  },
  {
   "cell_type": "code",
   "execution_count": 7,
   "metadata": {},
   "outputs": [
    {
     "data": {
      "text/html": [
       "<div>\n",
       "<style scoped>\n",
       "    .dataframe tbody tr th:only-of-type {\n",
       "        vertical-align: middle;\n",
       "    }\n",
       "\n",
       "    .dataframe tbody tr th {\n",
       "        vertical-align: top;\n",
       "    }\n",
       "\n",
       "    .dataframe thead th {\n",
       "        text-align: right;\n",
       "    }\n",
       "</style>\n",
       "<table border=\"1\" class=\"dataframe\">\n",
       "  <thead>\n",
       "    <tr style=\"text-align: right;\">\n",
       "      <th></th>\n",
       "      <th>medidas</th>\n",
       "      <th>valor</th>\n",
       "      <th>descripcion</th>\n",
       "    </tr>\n",
       "  </thead>\n",
       "  <tbody>\n",
       "    <tr>\n",
       "      <th>0</th>\n",
       "      <td>Ops totales</td>\n",
       "      <td>80.000</td>\n",
       "      <td>Operaciones totales</td>\n",
       "    </tr>\n",
       "    <tr>\n",
       "      <th>1</th>\n",
       "      <td>Ganadoras</td>\n",
       "      <td>63.000</td>\n",
       "      <td>Operaciones ganadoras</td>\n",
       "    </tr>\n",
       "    <tr>\n",
       "      <th>2</th>\n",
       "      <td>Ganadoras_c</td>\n",
       "      <td>60.000</td>\n",
       "      <td>Operaciones ganadoras de compra</td>\n",
       "    </tr>\n",
       "    <tr>\n",
       "      <th>3</th>\n",
       "      <td>Ganadoras_v</td>\n",
       "      <td>3.000</td>\n",
       "      <td>Operaciones perdedoras de venta</td>\n",
       "    </tr>\n",
       "    <tr>\n",
       "      <th>4</th>\n",
       "      <td>Perdedoras</td>\n",
       "      <td>17.000</td>\n",
       "      <td>Operaciones perdedoras</td>\n",
       "    </tr>\n",
       "    <tr>\n",
       "      <th>5</th>\n",
       "      <td>Perdedoras_c</td>\n",
       "      <td>17.000</td>\n",
       "      <td>Operaciones perdedoras de compra</td>\n",
       "    </tr>\n",
       "    <tr>\n",
       "      <th>6</th>\n",
       "      <td>Perdedoras_v</td>\n",
       "      <td>0.000</td>\n",
       "      <td>Operaciones perdedoras de venta</td>\n",
       "    </tr>\n",
       "    <tr>\n",
       "      <th>7</th>\n",
       "      <td>Mediana (Profit)</td>\n",
       "      <td>0.310</td>\n",
       "      <td>Mediana de profit de operaciones</td>\n",
       "    </tr>\n",
       "    <tr>\n",
       "      <th>8</th>\n",
       "      <td>Mediana (Pips)</td>\n",
       "      <td>0.320</td>\n",
       "      <td>Mediana de pips de operaciones</td>\n",
       "    </tr>\n",
       "    <tr>\n",
       "      <th>9</th>\n",
       "      <td>r_efectividad</td>\n",
       "      <td>0.787</td>\n",
       "      <td>Ganadoras Totales/Operaciones Totales</td>\n",
       "    </tr>\n",
       "    <tr>\n",
       "      <th>10</th>\n",
       "      <td>r_proporcion</td>\n",
       "      <td>1.000</td>\n",
       "      <td>Ganadoras Totales/Perdedoras Totales</td>\n",
       "    </tr>\n",
       "    <tr>\n",
       "      <th>11</th>\n",
       "      <td>r_efectividad_c</td>\n",
       "      <td>0.750</td>\n",
       "      <td>Ganadoras Compras/Operaciones Totales</td>\n",
       "    </tr>\n",
       "    <tr>\n",
       "      <th>12</th>\n",
       "      <td>r_efectividad_v</td>\n",
       "      <td>0.037</td>\n",
       "      <td>Ganadoras Ventas/ Operaciones Totales</td>\n",
       "    </tr>\n",
       "  </tbody>\n",
       "</table>\n",
       "</div>"
      ],
      "text/plain": [
       "             medidas   valor                            descripcion\n",
       "0        Ops totales  80.000                    Operaciones totales\n",
       "1          Ganadoras  63.000                  Operaciones ganadoras\n",
       "2        Ganadoras_c  60.000        Operaciones ganadoras de compra\n",
       "3        Ganadoras_v   3.000        Operaciones perdedoras de venta\n",
       "4         Perdedoras  17.000                 Operaciones perdedoras\n",
       "5       Perdedoras_c  17.000       Operaciones perdedoras de compra\n",
       "6       Perdedoras_v   0.000        Operaciones perdedoras de venta\n",
       "7   Mediana (Profit)   0.310       Mediana de profit de operaciones\n",
       "8     Mediana (Pips)   0.320         Mediana de pips de operaciones\n",
       "9      r_efectividad   0.787  Ganadoras Totales/Operaciones Totales\n",
       "10      r_proporcion   1.000   Ganadoras Totales/Perdedoras Totales\n",
       "11   r_efectividad_c   0.750  Ganadoras Compras/Operaciones Totales\n",
       "12   r_efectividad_v   0.037  Ganadoras Ventas/ Operaciones Totales"
      ]
     },
     "execution_count": 7,
     "metadata": {},
     "output_type": "execute_result"
    }
   ],
   "source": [
    "# Tabla decriptiva de operaciones y beneficios, EMD\n",
    "dt.df_1_tabla_e"
   ]
  },
  {
   "cell_type": "code",
   "execution_count": 8,
   "metadata": {},
   "outputs": [
    {
     "data": {
      "text/html": [
       "<div>\n",
       "<style scoped>\n",
       "    .dataframe tbody tr th:only-of-type {\n",
       "        vertical-align: middle;\n",
       "    }\n",
       "\n",
       "    .dataframe tbody tr th {\n",
       "        vertical-align: top;\n",
       "    }\n",
       "\n",
       "    .dataframe thead th {\n",
       "        text-align: right;\n",
       "    }\n",
       "</style>\n",
       "<table border=\"1\" class=\"dataframe\">\n",
       "  <thead>\n",
       "    <tr style=\"text-align: right;\">\n",
       "      <th></th>\n",
       "      <th>medidas</th>\n",
       "      <th>valor</th>\n",
       "      <th>descripcion</th>\n",
       "    </tr>\n",
       "  </thead>\n",
       "  <tbody>\n",
       "    <tr>\n",
       "      <th>0</th>\n",
       "      <td>Ops totales</td>\n",
       "      <td>33.000</td>\n",
       "      <td>Operaciones totales</td>\n",
       "    </tr>\n",
       "    <tr>\n",
       "      <th>1</th>\n",
       "      <td>Ganadoras</td>\n",
       "      <td>9.000</td>\n",
       "      <td>Operaciones ganadoras</td>\n",
       "    </tr>\n",
       "    <tr>\n",
       "      <th>2</th>\n",
       "      <td>Ganadoras_c</td>\n",
       "      <td>7.000</td>\n",
       "      <td>Operaciones ganadoras de compra</td>\n",
       "    </tr>\n",
       "    <tr>\n",
       "      <th>3</th>\n",
       "      <td>Ganadoras_v</td>\n",
       "      <td>2.000</td>\n",
       "      <td>Operaciones perdedoras de venta</td>\n",
       "    </tr>\n",
       "    <tr>\n",
       "      <th>4</th>\n",
       "      <td>Perdedoras</td>\n",
       "      <td>24.000</td>\n",
       "      <td>Operaciones perdedoras</td>\n",
       "    </tr>\n",
       "    <tr>\n",
       "      <th>5</th>\n",
       "      <td>Perdedoras_c</td>\n",
       "      <td>20.000</td>\n",
       "      <td>Operaciones perdedoras de compra</td>\n",
       "    </tr>\n",
       "    <tr>\n",
       "      <th>6</th>\n",
       "      <td>Perdedoras_v</td>\n",
       "      <td>4.000</td>\n",
       "      <td>Operaciones perdedoras de venta</td>\n",
       "    </tr>\n",
       "    <tr>\n",
       "      <th>7</th>\n",
       "      <td>Mediana (Profit)</td>\n",
       "      <td>-59.840</td>\n",
       "      <td>Mediana de profit de operaciones</td>\n",
       "    </tr>\n",
       "    <tr>\n",
       "      <th>8</th>\n",
       "      <td>Mediana (Pips)</td>\n",
       "      <td>-80.200</td>\n",
       "      <td>Mediana de pips de operaciones</td>\n",
       "    </tr>\n",
       "    <tr>\n",
       "      <th>9</th>\n",
       "      <td>r_efectividad</td>\n",
       "      <td>0.273</td>\n",
       "      <td>Ganadoras Totales/Operaciones Totales</td>\n",
       "    </tr>\n",
       "    <tr>\n",
       "      <th>10</th>\n",
       "      <td>r_proporcion</td>\n",
       "      <td>1.000</td>\n",
       "      <td>Ganadoras Totales/Perdedoras Totales</td>\n",
       "    </tr>\n",
       "    <tr>\n",
       "      <th>11</th>\n",
       "      <td>r_efectividad_c</td>\n",
       "      <td>0.212</td>\n",
       "      <td>Ganadoras Compras/Operaciones Totales</td>\n",
       "    </tr>\n",
       "    <tr>\n",
       "      <th>12</th>\n",
       "      <td>r_efectividad_v</td>\n",
       "      <td>0.061</td>\n",
       "      <td>Ganadoras Ventas/ Operaciones Totales</td>\n",
       "    </tr>\n",
       "  </tbody>\n",
       "</table>\n",
       "</div>"
      ],
      "text/plain": [
       "             medidas   valor                            descripcion\n",
       "0        Ops totales  33.000                    Operaciones totales\n",
       "1          Ganadoras   9.000                  Operaciones ganadoras\n",
       "2        Ganadoras_c   7.000        Operaciones ganadoras de compra\n",
       "3        Ganadoras_v   2.000        Operaciones perdedoras de venta\n",
       "4         Perdedoras  24.000                 Operaciones perdedoras\n",
       "5       Perdedoras_c  20.000       Operaciones perdedoras de compra\n",
       "6       Perdedoras_v   4.000        Operaciones perdedoras de venta\n",
       "7   Mediana (Profit) -59.840       Mediana de profit de operaciones\n",
       "8     Mediana (Pips) -80.200         Mediana de pips de operaciones\n",
       "9      r_efectividad   0.273  Ganadoras Totales/Operaciones Totales\n",
       "10      r_proporcion   1.000   Ganadoras Totales/Perdedoras Totales\n",
       "11   r_efectividad_c   0.212  Ganadoras Compras/Operaciones Totales\n",
       "12   r_efectividad_v   0.061  Ganadoras Ventas/ Operaciones Totales"
      ]
     },
     "execution_count": 8,
     "metadata": {},
     "output_type": "execute_result"
    }
   ],
   "source": [
    "# Tabla decriptiva de operaciones y beneficios, MAOC\n",
    "dt.df_1_tabla_m"
   ]
  },
  {
   "cell_type": "markdown",
   "metadata": {},
   "source": [
    "De esta apartado se puede clasificar que los metodos de inversion utilizados, por ejemplo, Esteban logro una efectividad del 78.7%, donde se aposto por operaciones de compra; Cuauhtemoc del 50%, quien aposto mas por operaciones de venta; y Marco del 27.3%, ademas de que fue el unico que tuvo una mediana de pips en valores negativos."
   ]
  },
  {
   "cell_type": "markdown",
   "metadata": {},
   "source": [
    "## <font color= #6B6B6B> 4.2 Tabla Ranking de Efectividad  </font>"
   ]
  },
  {
   "cell_type": "markdown",
   "metadata": {},
   "source": [
    " En esta tabla se observa el margen de efectividad, a manera de porcentaje, sobre los instrumentos que cada integrante utilizo. Es decir, de todas las operaciones generadas con un instrumento, que proporcion fueron ganadoras."
   ]
  },
  {
   "cell_type": "code",
   "execution_count": 9,
   "metadata": {},
   "outputs": [
    {
     "data": {
      "text/html": [
       "<div>\n",
       "<style scoped>\n",
       "    .dataframe tbody tr th:only-of-type {\n",
       "        vertical-align: middle;\n",
       "    }\n",
       "\n",
       "    .dataframe tbody tr th {\n",
       "        vertical-align: top;\n",
       "    }\n",
       "\n",
       "    .dataframe thead th {\n",
       "        text-align: right;\n",
       "    }\n",
       "</style>\n",
       "<table border=\"1\" class=\"dataframe\">\n",
       "  <thead>\n",
       "    <tr style=\"text-align: right;\">\n",
       "      <th></th>\n",
       "      <th>rank</th>\n",
       "      <th>rank %</th>\n",
       "    </tr>\n",
       "    <tr>\n",
       "      <th>Símbolo</th>\n",
       "      <th></th>\n",
       "      <th></th>\n",
       "    </tr>\n",
       "  </thead>\n",
       "  <tbody>\n",
       "    <tr>\n",
       "      <th>GBPJPY</th>\n",
       "      <td>1.00</td>\n",
       "      <td>100.00%</td>\n",
       "    </tr>\n",
       "    <tr>\n",
       "      <th>USDJPY</th>\n",
       "      <td>0.80</td>\n",
       "      <td>80.00%</td>\n",
       "    </tr>\n",
       "    <tr>\n",
       "      <th>EURGBP</th>\n",
       "      <td>0.67</td>\n",
       "      <td>67.00%</td>\n",
       "    </tr>\n",
       "    <tr>\n",
       "      <th>EURUSD</th>\n",
       "      <td>0.38</td>\n",
       "      <td>38.00%</td>\n",
       "    </tr>\n",
       "    <tr>\n",
       "      <th>AUDUSD</th>\n",
       "      <td>0.33</td>\n",
       "      <td>33.00%</td>\n",
       "    </tr>\n",
       "    <tr>\n",
       "      <th>EURMXN</th>\n",
       "      <td>0.00</td>\n",
       "      <td>0.00%</td>\n",
       "    </tr>\n",
       "    <tr>\n",
       "      <th>GBPUSD</th>\n",
       "      <td>0.00</td>\n",
       "      <td>0.00%</td>\n",
       "    </tr>\n",
       "    <tr>\n",
       "      <th>USDCAD</th>\n",
       "      <td>0.00</td>\n",
       "      <td>0.00%</td>\n",
       "    </tr>\n",
       "  </tbody>\n",
       "</table>\n",
       "</div>"
      ],
      "text/plain": [
       "         rank   rank %\n",
       "Símbolo               \n",
       "GBPJPY   1.00  100.00%\n",
       "USDJPY   0.80   80.00%\n",
       "EURGBP   0.67   67.00%\n",
       "EURUSD   0.38   38.00%\n",
       "AUDUSD   0.33   33.00%\n",
       "EURMXN   0.00    0.00%\n",
       "GBPUSD   0.00    0.00%\n",
       "USDCAD   0.00    0.00%"
      ]
     },
     "execution_count": 9,
     "metadata": {},
     "output_type": "execute_result"
    }
   ],
   "source": [
    "# Tabla ranking, CCC\n",
    "dt.df_2_tabla_c"
   ]
  },
  {
   "cell_type": "code",
   "execution_count": 18,
   "metadata": {},
   "outputs": [
    {
     "data": {
      "text/html": [
       "<div>\n",
       "<style scoped>\n",
       "    .dataframe tbody tr th:only-of-type {\n",
       "        vertical-align: middle;\n",
       "    }\n",
       "\n",
       "    .dataframe tbody tr th {\n",
       "        vertical-align: top;\n",
       "    }\n",
       "\n",
       "    .dataframe thead th {\n",
       "        text-align: right;\n",
       "    }\n",
       "</style>\n",
       "<table border=\"1\" class=\"dataframe\">\n",
       "  <thead>\n",
       "    <tr style=\"text-align: right;\">\n",
       "      <th></th>\n",
       "      <th>rank</th>\n",
       "      <th>rank %</th>\n",
       "    </tr>\n",
       "    <tr>\n",
       "      <th>Símbolo</th>\n",
       "      <th></th>\n",
       "      <th></th>\n",
       "    </tr>\n",
       "  </thead>\n",
       "  <tbody>\n",
       "    <tr>\n",
       "      <th>EURUSD</th>\n",
       "      <td>0.91</td>\n",
       "      <td>91.00%</td>\n",
       "    </tr>\n",
       "    <tr>\n",
       "      <th>USDMXN</th>\n",
       "      <td>0.65</td>\n",
       "      <td>65.00%</td>\n",
       "    </tr>\n",
       "    <tr>\n",
       "      <th>GBPUSD</th>\n",
       "      <td>0.00</td>\n",
       "      <td>0.00%</td>\n",
       "    </tr>\n",
       "  </tbody>\n",
       "</table>\n",
       "</div>"
      ],
      "text/plain": [
       "         rank  rank %\n",
       "Símbolo              \n",
       "EURUSD   0.91  91.00%\n",
       "USDMXN   0.65  65.00%\n",
       "GBPUSD   0.00   0.00%"
      ]
     },
     "execution_count": 18,
     "metadata": {},
     "output_type": "execute_result"
    }
   ],
   "source": [
    "# Tabla ranking, EMD\n",
    "dt.df_2_tabla_e"
   ]
  },
  {
   "cell_type": "code",
   "execution_count": 10,
   "metadata": {},
   "outputs": [
    {
     "data": {
      "text/html": [
       "<div>\n",
       "<style scoped>\n",
       "    .dataframe tbody tr th:only-of-type {\n",
       "        vertical-align: middle;\n",
       "    }\n",
       "\n",
       "    .dataframe tbody tr th {\n",
       "        vertical-align: top;\n",
       "    }\n",
       "\n",
       "    .dataframe thead th {\n",
       "        text-align: right;\n",
       "    }\n",
       "</style>\n",
       "<table border=\"1\" class=\"dataframe\">\n",
       "  <thead>\n",
       "    <tr style=\"text-align: right;\">\n",
       "      <th></th>\n",
       "      <th>rank</th>\n",
       "      <th>rank %</th>\n",
       "    </tr>\n",
       "    <tr>\n",
       "      <th>Símbolo</th>\n",
       "      <th></th>\n",
       "      <th></th>\n",
       "    </tr>\n",
       "  </thead>\n",
       "  <tbody>\n",
       "    <tr>\n",
       "      <th>TSLA.O</th>\n",
       "      <td>1.00</td>\n",
       "      <td>100.00%</td>\n",
       "    </tr>\n",
       "    <tr>\n",
       "      <th>#WHEAT_Z22</th>\n",
       "      <td>0.50</td>\n",
       "      <td>50.00%</td>\n",
       "    </tr>\n",
       "    <tr>\n",
       "      <th>GOLD</th>\n",
       "      <td>0.40</td>\n",
       "      <td>40.00%</td>\n",
       "    </tr>\n",
       "    <tr>\n",
       "      <th>#USSPX500</th>\n",
       "      <td>0.38</td>\n",
       "      <td>38.00%</td>\n",
       "    </tr>\n",
       "    <tr>\n",
       "      <th>#USNDAQ100</th>\n",
       "      <td>0.33</td>\n",
       "      <td>33.00%</td>\n",
       "    </tr>\n",
       "    <tr>\n",
       "      <th>WTI</th>\n",
       "      <td>0.20</td>\n",
       "      <td>20.00%</td>\n",
       "    </tr>\n",
       "    <tr>\n",
       "      <th>EURUSD</th>\n",
       "      <td>0.00</td>\n",
       "      <td>0.00%</td>\n",
       "    </tr>\n",
       "    <tr>\n",
       "      <th>GBPUSD</th>\n",
       "      <td>0.00</td>\n",
       "      <td>0.00%</td>\n",
       "    </tr>\n",
       "    <tr>\n",
       "      <th>SILVER</th>\n",
       "      <td>0.00</td>\n",
       "      <td>0.00%</td>\n",
       "    </tr>\n",
       "    <tr>\n",
       "      <th>SNAP.N</th>\n",
       "      <td>0.00</td>\n",
       "      <td>0.00%</td>\n",
       "    </tr>\n",
       "    <tr>\n",
       "      <th>USDCAD</th>\n",
       "      <td>0.00</td>\n",
       "      <td>0.00%</td>\n",
       "    </tr>\n",
       "    <tr>\n",
       "      <th>USDMXN</th>\n",
       "      <td>0.00</td>\n",
       "      <td>0.00%</td>\n",
       "    </tr>\n",
       "  </tbody>\n",
       "</table>\n",
       "</div>"
      ],
      "text/plain": [
       "            rank   rank %\n",
       "Símbolo                  \n",
       "TSLA.O      1.00  100.00%\n",
       "#WHEAT_Z22  0.50   50.00%\n",
       "GOLD        0.40   40.00%\n",
       "#USSPX500   0.38   38.00%\n",
       "#USNDAQ100  0.33   33.00%\n",
       "WTI         0.20   20.00%\n",
       "EURUSD      0.00    0.00%\n",
       "GBPUSD      0.00    0.00%\n",
       "SILVER      0.00    0.00%\n",
       "SNAP.N      0.00    0.00%\n",
       "USDCAD      0.00    0.00%\n",
       "USDMXN      0.00    0.00%"
      ]
     },
     "execution_count": 10,
     "metadata": {},
     "output_type": "execute_result"
    }
   ],
   "source": [
    "# Tabla ranking, MAOC\n",
    "dt.df_2_tabla_m"
   ]
  },
  {
   "cell_type": "markdown",
   "metadata": {},
   "source": [
    "Algo a destacar en esta parte, es que los tres individuos utilizaron instrumentos que no les dejo ninguna rentabilidad, lo cual quiere decir que su estrategia de inversion fue mala; por otro lado, tanto Marco como Cuauhtemoc tienen una lista de instrumentos mas diversa, lo cual deberia de disminuir el riesgo total de perdida, e incluso un instrumento con el 100% de efectividad, por otra parte, Esteban solo trabajo con tres instrumentos y esto pudo haber influido en su alto margen de efectividad, ya que al manejar pocos instrumentos se puede estudiar mejor su comportamiento."
   ]
  },
  {
   "cell_type": "markdown",
   "metadata": {},
   "source": [
    "## <font color= #6B6B6B> 4.3 Tabla evolucion del capital  </font>"
   ]
  },
  {
   "cell_type": "markdown",
   "metadata": {},
   "source": [
    "En esta tabla se describen los cambios que sufrio el capital inicial de 100,000 dolares a lo largo de los dias de inversion. Esta tabla sirve para ver el comportamiento de la cuenta base de cada integrante a traves de sus inversiones correspodientes. Para este resultado se agrupo de manera diaria el beneficio neto obtenido y se agrego a la cuenta del capital. Los nombres de las columnas representan:\n",
    "+ **timestamp:** dia correspodiente de inversiones\n",
    "\n",
    "+ **profit_d:** beneficio neto obtenido de las inversiones del dia\n",
    "\n",
    "+ **profit_acum_d:** estado del capital base al final del dia"
   ]
  },
  {
   "cell_type": "code",
   "execution_count": 12,
   "metadata": {},
   "outputs": [
    {
     "name": "stdout",
     "output_type": "stream",
     "text": [
      "    timestamp  profit_d  profit_acum_d  rends_log\n",
      "0  2022-09-15     -2.95       99997.05  -0.000030\n",
      "1  2022-09-16     -2.52       99994.53  -0.000025\n",
      "2  2022-09-17      0.00       99994.53  -0.000000\n",
      "3  2022-09-18      0.00       99994.53  -0.000000\n",
      "4  2022-09-19     32.14      100026.67   0.000321\n",
      "5  2022-09-20   -180.40       99846.27  -0.001805\n",
      "6  2022-09-21      0.49       99846.76   0.000005\n",
      "7  2022-09-22    -42.50       99804.26  -0.000426\n",
      "8  2022-09-23      1.30       99805.56   0.000013\n"
     ]
    }
   ],
   "source": [
    "print(dt.evo_c_c)"
   ]
  },
  {
   "cell_type": "code",
   "execution_count": 13,
   "metadata": {},
   "outputs": [
    {
     "data": {
      "text/html": [
       "<div>\n",
       "<style scoped>\n",
       "    .dataframe tbody tr th:only-of-type {\n",
       "        vertical-align: middle;\n",
       "    }\n",
       "\n",
       "    .dataframe tbody tr th {\n",
       "        vertical-align: top;\n",
       "    }\n",
       "\n",
       "    .dataframe thead th {\n",
       "        text-align: right;\n",
       "    }\n",
       "</style>\n",
       "<table border=\"1\" class=\"dataframe\">\n",
       "  <thead>\n",
       "    <tr style=\"text-align: right;\">\n",
       "      <th></th>\n",
       "      <th>timestamp</th>\n",
       "      <th>profit_d</th>\n",
       "      <th>profit_acum_d</th>\n",
       "    </tr>\n",
       "  </thead>\n",
       "  <tbody>\n",
       "    <tr>\n",
       "      <th>0</th>\n",
       "      <td>2022-09-15</td>\n",
       "      <td>-2.95</td>\n",
       "      <td>99997.05</td>\n",
       "    </tr>\n",
       "    <tr>\n",
       "      <th>1</th>\n",
       "      <td>2022-09-16</td>\n",
       "      <td>-2.52</td>\n",
       "      <td>99994.53</td>\n",
       "    </tr>\n",
       "    <tr>\n",
       "      <th>2</th>\n",
       "      <td>2022-09-17</td>\n",
       "      <td>0.00</td>\n",
       "      <td>99994.53</td>\n",
       "    </tr>\n",
       "    <tr>\n",
       "      <th>3</th>\n",
       "      <td>2022-09-18</td>\n",
       "      <td>0.00</td>\n",
       "      <td>99994.53</td>\n",
       "    </tr>\n",
       "    <tr>\n",
       "      <th>4</th>\n",
       "      <td>2022-09-19</td>\n",
       "      <td>32.14</td>\n",
       "      <td>100026.67</td>\n",
       "    </tr>\n",
       "    <tr>\n",
       "      <th>5</th>\n",
       "      <td>2022-09-20</td>\n",
       "      <td>-180.40</td>\n",
       "      <td>99846.27</td>\n",
       "    </tr>\n",
       "    <tr>\n",
       "      <th>6</th>\n",
       "      <td>2022-09-21</td>\n",
       "      <td>0.49</td>\n",
       "      <td>99846.76</td>\n",
       "    </tr>\n",
       "    <tr>\n",
       "      <th>7</th>\n",
       "      <td>2022-09-22</td>\n",
       "      <td>-42.50</td>\n",
       "      <td>99804.26</td>\n",
       "    </tr>\n",
       "    <tr>\n",
       "      <th>8</th>\n",
       "      <td>2022-09-23</td>\n",
       "      <td>1.30</td>\n",
       "      <td>99805.56</td>\n",
       "    </tr>\n",
       "  </tbody>\n",
       "</table>\n",
       "</div>"
      ],
      "text/plain": [
       "    timestamp  profit_d  profit_acum_d\n",
       "0  2022-09-15     -2.95       99997.05\n",
       "1  2022-09-16     -2.52       99994.53\n",
       "2  2022-09-17      0.00       99994.53\n",
       "3  2022-09-18      0.00       99994.53\n",
       "4  2022-09-19     32.14      100026.67\n",
       "5  2022-09-20   -180.40       99846.27\n",
       "6  2022-09-21      0.49       99846.76\n",
       "7  2022-09-22    -42.50       99804.26\n",
       "8  2022-09-23      1.30       99805.56"
      ]
     },
     "execution_count": 13,
     "metadata": {},
     "output_type": "execute_result"
    }
   ],
   "source": [
    "# Tabla evolucion de Capital, CCC\n",
    "#dt.evo_c_c.drop([\"DU\",\"DD\",\"rends_log\"],axis=1)\n",
    "dt.evo_c_c.drop([\"rends_log\"],axis=1)"
   ]
  },
  {
   "cell_type": "code",
   "execution_count": 14,
   "metadata": {},
   "outputs": [
    {
     "data": {
      "text/html": [
       "<div>\n",
       "<style scoped>\n",
       "    .dataframe tbody tr th:only-of-type {\n",
       "        vertical-align: middle;\n",
       "    }\n",
       "\n",
       "    .dataframe tbody tr th {\n",
       "        vertical-align: top;\n",
       "    }\n",
       "\n",
       "    .dataframe thead th {\n",
       "        text-align: right;\n",
       "    }\n",
       "</style>\n",
       "<table border=\"1\" class=\"dataframe\">\n",
       "  <thead>\n",
       "    <tr style=\"text-align: right;\">\n",
       "      <th></th>\n",
       "      <th>timestamp</th>\n",
       "      <th>profit_d</th>\n",
       "      <th>profit_acum_d</th>\n",
       "    </tr>\n",
       "  </thead>\n",
       "  <tbody>\n",
       "    <tr>\n",
       "      <th>0</th>\n",
       "      <td>2022-09-16</td>\n",
       "      <td>57.63</td>\n",
       "      <td>100057.63</td>\n",
       "    </tr>\n",
       "    <tr>\n",
       "      <th>1</th>\n",
       "      <td>2022-09-17</td>\n",
       "      <td>0.00</td>\n",
       "      <td>100057.63</td>\n",
       "    </tr>\n",
       "    <tr>\n",
       "      <th>2</th>\n",
       "      <td>2022-09-18</td>\n",
       "      <td>0.00</td>\n",
       "      <td>100057.63</td>\n",
       "    </tr>\n",
       "    <tr>\n",
       "      <th>3</th>\n",
       "      <td>2022-09-19</td>\n",
       "      <td>334.56</td>\n",
       "      <td>100392.19</td>\n",
       "    </tr>\n",
       "    <tr>\n",
       "      <th>4</th>\n",
       "      <td>2022-09-20</td>\n",
       "      <td>0.00</td>\n",
       "      <td>100392.19</td>\n",
       "    </tr>\n",
       "    <tr>\n",
       "      <th>5</th>\n",
       "      <td>2022-09-21</td>\n",
       "      <td>-88.86</td>\n",
       "      <td>100303.33</td>\n",
       "    </tr>\n",
       "    <tr>\n",
       "      <th>6</th>\n",
       "      <td>2022-09-22</td>\n",
       "      <td>0.00</td>\n",
       "      <td>100303.33</td>\n",
       "    </tr>\n",
       "    <tr>\n",
       "      <th>7</th>\n",
       "      <td>2022-09-23</td>\n",
       "      <td>13.82</td>\n",
       "      <td>100317.15</td>\n",
       "    </tr>\n",
       "  </tbody>\n",
       "</table>\n",
       "</div>"
      ],
      "text/plain": [
       "    timestamp  profit_d  profit_acum_d\n",
       "0  2022-09-16     57.63      100057.63\n",
       "1  2022-09-17      0.00      100057.63\n",
       "2  2022-09-18      0.00      100057.63\n",
       "3  2022-09-19    334.56      100392.19\n",
       "4  2022-09-20      0.00      100392.19\n",
       "5  2022-09-21    -88.86      100303.33\n",
       "6  2022-09-22      0.00      100303.33\n",
       "7  2022-09-23     13.82      100317.15"
      ]
     },
     "execution_count": 14,
     "metadata": {},
     "output_type": "execute_result"
    }
   ],
   "source": [
    "# Tabla evolucion de Capital, EMD\n",
    "#dt.evo_c_c.drop([\"DU\",\"DD\",\"rends_log\"],axis=1)\n",
    "dt.evo_c_e.drop([\"rends_log\"],axis=1)"
   ]
  },
  {
   "cell_type": "code",
   "execution_count": 15,
   "metadata": {},
   "outputs": [
    {
     "data": {
      "text/html": [
       "<div>\n",
       "<style scoped>\n",
       "    .dataframe tbody tr th:only-of-type {\n",
       "        vertical-align: middle;\n",
       "    }\n",
       "\n",
       "    .dataframe tbody tr th {\n",
       "        vertical-align: top;\n",
       "    }\n",
       "\n",
       "    .dataframe thead th {\n",
       "        text-align: right;\n",
       "    }\n",
       "</style>\n",
       "<table border=\"1\" class=\"dataframe\">\n",
       "  <thead>\n",
       "    <tr style=\"text-align: right;\">\n",
       "      <th></th>\n",
       "      <th>timestamp</th>\n",
       "      <th>profit_d</th>\n",
       "      <th>profit_acum_d</th>\n",
       "    </tr>\n",
       "  </thead>\n",
       "  <tbody>\n",
       "    <tr>\n",
       "      <th>0</th>\n",
       "      <td>2022-09-16</td>\n",
       "      <td>-57.60</td>\n",
       "      <td>99942.40</td>\n",
       "    </tr>\n",
       "    <tr>\n",
       "      <th>1</th>\n",
       "      <td>2022-09-17</td>\n",
       "      <td>0.00</td>\n",
       "      <td>99942.40</td>\n",
       "    </tr>\n",
       "    <tr>\n",
       "      <th>2</th>\n",
       "      <td>2022-09-18</td>\n",
       "      <td>0.00</td>\n",
       "      <td>99942.40</td>\n",
       "    </tr>\n",
       "    <tr>\n",
       "      <th>3</th>\n",
       "      <td>2022-09-19</td>\n",
       "      <td>22.47</td>\n",
       "      <td>99964.87</td>\n",
       "    </tr>\n",
       "    <tr>\n",
       "      <th>4</th>\n",
       "      <td>2022-09-20</td>\n",
       "      <td>-883.73</td>\n",
       "      <td>99081.14</td>\n",
       "    </tr>\n",
       "    <tr>\n",
       "      <th>5</th>\n",
       "      <td>2022-09-21</td>\n",
       "      <td>-568.75</td>\n",
       "      <td>98512.39</td>\n",
       "    </tr>\n",
       "    <tr>\n",
       "      <th>6</th>\n",
       "      <td>2022-09-22</td>\n",
       "      <td>2.16</td>\n",
       "      <td>98514.55</td>\n",
       "    </tr>\n",
       "    <tr>\n",
       "      <th>7</th>\n",
       "      <td>2022-09-23</td>\n",
       "      <td>1570.90</td>\n",
       "      <td>100085.45</td>\n",
       "    </tr>\n",
       "    <tr>\n",
       "      <th>8</th>\n",
       "      <td>2022-09-24</td>\n",
       "      <td>0.00</td>\n",
       "      <td>100085.45</td>\n",
       "    </tr>\n",
       "    <tr>\n",
       "      <th>9</th>\n",
       "      <td>2022-09-25</td>\n",
       "      <td>0.00</td>\n",
       "      <td>100085.45</td>\n",
       "    </tr>\n",
       "    <tr>\n",
       "      <th>10</th>\n",
       "      <td>2022-09-26</td>\n",
       "      <td>-9298.90</td>\n",
       "      <td>90786.55</td>\n",
       "    </tr>\n",
       "  </tbody>\n",
       "</table>\n",
       "</div>"
      ],
      "text/plain": [
       "     timestamp  profit_d  profit_acum_d\n",
       "0   2022-09-16    -57.60       99942.40\n",
       "1   2022-09-17      0.00       99942.40\n",
       "2   2022-09-18      0.00       99942.40\n",
       "3   2022-09-19     22.47       99964.87\n",
       "4   2022-09-20   -883.73       99081.14\n",
       "5   2022-09-21   -568.75       98512.39\n",
       "6   2022-09-22      2.16       98514.55\n",
       "7   2022-09-23   1570.90      100085.45\n",
       "8   2022-09-24      0.00      100085.45\n",
       "9   2022-09-25      0.00      100085.45\n",
       "10  2022-09-26  -9298.90       90786.55"
      ]
     },
     "execution_count": 15,
     "metadata": {},
     "output_type": "execute_result"
    }
   ],
   "source": [
    "# Tabla evolucion de Capital, MAOC\n",
    "#dt.evo_c_c.drop([\"DU\",\"DD\",\"rends_log\"],axis=1)\n",
    "dt.evo_c_m.drop([\"rends_log\"],axis=1)"
   ]
  },
  {
   "cell_type": "markdown",
   "metadata": {},
   "source": [
    "En este ejericicio, se observa que al final de periodo de inversion, solo uno de los individuos termino con beneficios positivos sobre el capital inicial. Ademas tambien se observa de Marco realizo inversiones mas agresivas debido que el nivel de sus numeros es superior al del resto de los intergrantes. "
   ]
  },
  {
   "cell_type": "markdown",
   "metadata": {},
   "source": [
    "## <font color= #6B6B6B> 4.4 Tabla de Metricas de Atribucion al Desempeño  </font>"
   ]
  },
  {
   "cell_type": "markdown",
   "metadata": {},
   "source": [
    "En esta tabla se representan metricas que califican el desempeño de cada reporte de posiciones. Con el proposito de calificar el trabajo de cada integrante realizado en el laboratorio 2. Las metricas aplicadas fueron: \n",
    "\n",
    "+ **Sharpe:** Una metrica que compara el desempeño de una inversion contra el valor de la tasa libre de riesgo, donde si el valor es positivo es que esta sobre la tasa y si es negativo esta por debajo. Para calificar nuestras posiciones se utilizo dos metodologias de calculo diferente, el *original* donde se utilizan el rendimiento logaritmico promedio de las inversiones, su desviacion estandar y la tasa libre de riesgo; y el *ajustado* donde se agrega a los calculos la media de los rendimientos logaritmicos de algun indice, en este caso el S&P500.\n",
    "\n",
    "+ **Draw Down:** Representa la “racha” de en la que se presentó una perdida drástica después de haber llegado al máximo punto de evolución de capital en un periodo de inversión. \n",
    "\n",
    "+ **Dram Up:** Señala el lapso de tiempo donde se tuvo un alza continua después de haber tenido la caída Máxima del periodo que se analiza.\n",
    "\n",
    "Como nota, se debe mencionar que las metricas de Sharpe se encuentran en porcentaje * 100, y los Draws en capital (usd)."
   ]
  },
  {
   "cell_type": "code",
   "execution_count": 16,
   "metadata": {},
   "outputs": [
    {
     "data": {
      "text/html": [
       "<div>\n",
       "<style scoped>\n",
       "    .dataframe tbody tr th:only-of-type {\n",
       "        vertical-align: middle;\n",
       "    }\n",
       "\n",
       "    .dataframe tbody tr th {\n",
       "        vertical-align: top;\n",
       "    }\n",
       "\n",
       "    .dataframe thead th {\n",
       "        text-align: right;\n",
       "    }\n",
       "</style>\n",
       "<table border=\"1\" class=\"dataframe\">\n",
       "  <thead>\n",
       "    <tr style=\"text-align: right;\">\n",
       "      <th></th>\n",
       "      <th>Metrica</th>\n",
       "      <th>Tipo de Dato</th>\n",
       "      <th>Valor</th>\n",
       "      <th>Descripcion</th>\n",
       "    </tr>\n",
       "  </thead>\n",
       "  <tbody>\n",
       "    <tr>\n",
       "      <th>0</th>\n",
       "      <td>sharpe_original</td>\n",
       "      <td>Cantidad</td>\n",
       "      <td>-80.3602</td>\n",
       "      <td>Sharpe Ratio Fórmula Original</td>\n",
       "    </tr>\n",
       "    <tr>\n",
       "      <th>1</th>\n",
       "      <td>sharpe_actualizado</td>\n",
       "      <td>Cantidad</td>\n",
       "      <td>-80.3304</td>\n",
       "      <td>Sharpe Ratio Fórmula Ajustada</td>\n",
       "    </tr>\n",
       "    <tr>\n",
       "      <th>2</th>\n",
       "      <td>drawdown_capi</td>\n",
       "      <td>Fecha Inicial</td>\n",
       "      <td>2022-09-22 22:47:53</td>\n",
       "      <td>Fecha inicial del DrawDown de Capital</td>\n",
       "    </tr>\n",
       "    <tr>\n",
       "      <th>3</th>\n",
       "      <td>drawdown_capi</td>\n",
       "      <td>Fecha Final</td>\n",
       "      <td>2022-09-22 22:50:10</td>\n",
       "      <td>Fecha final del DrawDown de Capital</td>\n",
       "    </tr>\n",
       "    <tr>\n",
       "      <th>4</th>\n",
       "      <td>drawdown_capi</td>\n",
       "      <td>DrawDown $ (capital)</td>\n",
       "      <td>99804.3</td>\n",
       "      <td>Máxima pérdida flotante registrada</td>\n",
       "    </tr>\n",
       "    <tr>\n",
       "      <th>5</th>\n",
       "      <td>drawup_capi</td>\n",
       "      <td>Fecha Inicial</td>\n",
       "      <td>2022-09-16 22:03:38</td>\n",
       "      <td>Fecha inicial del DrawUp de Capital</td>\n",
       "    </tr>\n",
       "    <tr>\n",
       "      <th>6</th>\n",
       "      <td>drawup_capi</td>\n",
       "      <td>Fecha Final</td>\n",
       "      <td>2022-09-19 02:37:19</td>\n",
       "      <td>Fecha final del DrawUp de Capital</td>\n",
       "    </tr>\n",
       "    <tr>\n",
       "      <th>7</th>\n",
       "      <td>drawup_capi</td>\n",
       "      <td>DrawUp $ (capital)</td>\n",
       "      <td>100035</td>\n",
       "      <td>Máxima ganancia flotante registrada</td>\n",
       "    </tr>\n",
       "  </tbody>\n",
       "</table>\n",
       "</div>"
      ],
      "text/plain": [
       "              Metrica          Tipo de Dato                Valor  \\\n",
       "0     sharpe_original              Cantidad             -80.3602   \n",
       "1  sharpe_actualizado              Cantidad             -80.3304   \n",
       "2       drawdown_capi         Fecha Inicial  2022-09-22 22:47:53   \n",
       "3       drawdown_capi           Fecha Final  2022-09-22 22:50:10   \n",
       "4       drawdown_capi  DrawDown $ (capital)              99804.3   \n",
       "5         drawup_capi         Fecha Inicial  2022-09-16 22:03:38   \n",
       "6         drawup_capi           Fecha Final  2022-09-19 02:37:19   \n",
       "7         drawup_capi    DrawUp $ (capital)               100035   \n",
       "\n",
       "                             Descripcion  \n",
       "0          Sharpe Ratio Fórmula Original  \n",
       "1          Sharpe Ratio Fórmula Ajustada  \n",
       "2  Fecha inicial del DrawDown de Capital  \n",
       "3    Fecha final del DrawDown de Capital  \n",
       "4     Máxima pérdida flotante registrada  \n",
       "5    Fecha inicial del DrawUp de Capital  \n",
       "6      Fecha final del DrawUp de Capital  \n",
       "7    Máxima ganancia flotante registrada  "
      ]
     },
     "execution_count": 16,
     "metadata": {},
     "output_type": "execute_result"
    }
   ],
   "source": [
    "# Tabla MAD, CCC\n",
    "dt.metricas_c"
   ]
  },
  {
   "cell_type": "code",
   "execution_count": 17,
   "metadata": {},
   "outputs": [
    {
     "data": {
      "text/html": [
       "<div>\n",
       "<style scoped>\n",
       "    .dataframe tbody tr th:only-of-type {\n",
       "        vertical-align: middle;\n",
       "    }\n",
       "\n",
       "    .dataframe tbody tr th {\n",
       "        vertical-align: top;\n",
       "    }\n",
       "\n",
       "    .dataframe thead th {\n",
       "        text-align: right;\n",
       "    }\n",
       "</style>\n",
       "<table border=\"1\" class=\"dataframe\">\n",
       "  <thead>\n",
       "    <tr style=\"text-align: right;\">\n",
       "      <th></th>\n",
       "      <th>Metrica</th>\n",
       "      <th>Tipo de Dato</th>\n",
       "      <th>Valor</th>\n",
       "      <th>Descripcion</th>\n",
       "    </tr>\n",
       "  </thead>\n",
       "  <tbody>\n",
       "    <tr>\n",
       "      <th>0</th>\n",
       "      <td>sharpe_original</td>\n",
       "      <td>Cantidad</td>\n",
       "      <td>-39.5263</td>\n",
       "      <td>Sharpe Ratio Fórmula Original</td>\n",
       "    </tr>\n",
       "    <tr>\n",
       "      <th>1</th>\n",
       "      <td>sharpe_actualizado</td>\n",
       "      <td>Cantidad</td>\n",
       "      <td>-39.5114</td>\n",
       "      <td>Sharpe Ratio Fórmula Ajustada</td>\n",
       "    </tr>\n",
       "    <tr>\n",
       "      <th>2</th>\n",
       "      <td>drawdown_capi</td>\n",
       "      <td>Fecha Inicial</td>\n",
       "      <td>2022-09-14 16:24:15</td>\n",
       "      <td>Fecha inicial del DrawDown de Capital</td>\n",
       "    </tr>\n",
       "    <tr>\n",
       "      <th>3</th>\n",
       "      <td>drawdown_capi</td>\n",
       "      <td>Fecha Final</td>\n",
       "      <td>2022-09-16 23:54:14</td>\n",
       "      <td>Fecha final del DrawDown de Capital</td>\n",
       "    </tr>\n",
       "    <tr>\n",
       "      <th>4</th>\n",
       "      <td>drawdown_capi</td>\n",
       "      <td>DrawDown $ (capital)</td>\n",
       "      <td>99995.6</td>\n",
       "      <td>Máxima pérdida flotante registrada</td>\n",
       "    </tr>\n",
       "    <tr>\n",
       "      <th>5</th>\n",
       "      <td>drawup_capi</td>\n",
       "      <td>Fecha Inicial</td>\n",
       "      <td>2022-09-19 16:56:35</td>\n",
       "      <td>Fecha inicial del DrawUp de Capital</td>\n",
       "    </tr>\n",
       "    <tr>\n",
       "      <th>6</th>\n",
       "      <td>drawup_capi</td>\n",
       "      <td>Fecha Final</td>\n",
       "      <td>2022-09-19 17:13:19</td>\n",
       "      <td>Fecha final del DrawUp de Capital</td>\n",
       "    </tr>\n",
       "    <tr>\n",
       "      <th>7</th>\n",
       "      <td>drawup_capi</td>\n",
       "      <td>DrawUp $ (capital)</td>\n",
       "      <td>100392</td>\n",
       "      <td>Máxima ganancia flotante registrada</td>\n",
       "    </tr>\n",
       "  </tbody>\n",
       "</table>\n",
       "</div>"
      ],
      "text/plain": [
       "              Metrica          Tipo de Dato                Valor  \\\n",
       "0     sharpe_original              Cantidad             -39.5263   \n",
       "1  sharpe_actualizado              Cantidad             -39.5114   \n",
       "2       drawdown_capi         Fecha Inicial  2022-09-14 16:24:15   \n",
       "3       drawdown_capi           Fecha Final  2022-09-16 23:54:14   \n",
       "4       drawdown_capi  DrawDown $ (capital)              99995.6   \n",
       "5         drawup_capi         Fecha Inicial  2022-09-19 16:56:35   \n",
       "6         drawup_capi           Fecha Final  2022-09-19 17:13:19   \n",
       "7         drawup_capi    DrawUp $ (capital)               100392   \n",
       "\n",
       "                             Descripcion  \n",
       "0          Sharpe Ratio Fórmula Original  \n",
       "1          Sharpe Ratio Fórmula Ajustada  \n",
       "2  Fecha inicial del DrawDown de Capital  \n",
       "3    Fecha final del DrawDown de Capital  \n",
       "4     Máxima pérdida flotante registrada  \n",
       "5    Fecha inicial del DrawUp de Capital  \n",
       "6      Fecha final del DrawUp de Capital  \n",
       "7    Máxima ganancia flotante registrada  "
      ]
     },
     "execution_count": 17,
     "metadata": {},
     "output_type": "execute_result"
    }
   ],
   "source": [
    "# Tabla MAD, EMD\n",
    "dt.metricas_e"
   ]
  },
  {
   "cell_type": "code",
   "execution_count": 18,
   "metadata": {},
   "outputs": [
    {
     "data": {
      "text/html": [
       "<div>\n",
       "<style scoped>\n",
       "    .dataframe tbody tr th:only-of-type {\n",
       "        vertical-align: middle;\n",
       "    }\n",
       "\n",
       "    .dataframe tbody tr th {\n",
       "        vertical-align: top;\n",
       "    }\n",
       "\n",
       "    .dataframe thead th {\n",
       "        text-align: right;\n",
       "    }\n",
       "</style>\n",
       "<table border=\"1\" class=\"dataframe\">\n",
       "  <thead>\n",
       "    <tr style=\"text-align: right;\">\n",
       "      <th></th>\n",
       "      <th>Metrica</th>\n",
       "      <th>Tipo de Dato</th>\n",
       "      <th>Valor</th>\n",
       "      <th>Descripcion</th>\n",
       "    </tr>\n",
       "  </thead>\n",
       "  <tbody>\n",
       "    <tr>\n",
       "      <th>0</th>\n",
       "      <td>sharpe_original</td>\n",
       "      <td>Cantidad</td>\n",
       "      <td>-1.95717</td>\n",
       "      <td>Sharpe Ratio Fórmula Original</td>\n",
       "    </tr>\n",
       "    <tr>\n",
       "      <th>1</th>\n",
       "      <td>sharpe_actualizado</td>\n",
       "      <td>Cantidad</td>\n",
       "      <td>-1.95655</td>\n",
       "      <td>Sharpe Ratio Fórmula Ajustada</td>\n",
       "    </tr>\n",
       "    <tr>\n",
       "      <th>2</th>\n",
       "      <td>drawdown_capi</td>\n",
       "      <td>Fecha Inicial</td>\n",
       "      <td>2022-09-26 18:27:04</td>\n",
       "      <td>Fecha inicial del DrawDown de Capital</td>\n",
       "    </tr>\n",
       "    <tr>\n",
       "      <th>3</th>\n",
       "      <td>drawdown_capi</td>\n",
       "      <td>Fecha Final</td>\n",
       "      <td>2022-09-26 18:45:12</td>\n",
       "      <td>Fecha final del DrawDown de Capital</td>\n",
       "    </tr>\n",
       "    <tr>\n",
       "      <th>4</th>\n",
       "      <td>drawdown_capi</td>\n",
       "      <td>DrawDown $ (capital)</td>\n",
       "      <td>90786.6</td>\n",
       "      <td>Máxima pérdida flotante registrada</td>\n",
       "    </tr>\n",
       "    <tr>\n",
       "      <th>5</th>\n",
       "      <td>drawup_capi</td>\n",
       "      <td>Fecha Inicial</td>\n",
       "      <td>2022-09-19 17:43:12</td>\n",
       "      <td>Fecha inicial del DrawUp de Capital</td>\n",
       "    </tr>\n",
       "    <tr>\n",
       "      <th>6</th>\n",
       "      <td>drawup_capi</td>\n",
       "      <td>Fecha Final</td>\n",
       "      <td>2022-09-19 22:56:49</td>\n",
       "      <td>Fecha final del DrawUp de Capital</td>\n",
       "    </tr>\n",
       "    <tr>\n",
       "      <th>7</th>\n",
       "      <td>drawup_capi</td>\n",
       "      <td>DrawUp $ (capital)</td>\n",
       "      <td>99964.9</td>\n",
       "      <td>Máxima ganancia flotante registrada</td>\n",
       "    </tr>\n",
       "  </tbody>\n",
       "</table>\n",
       "</div>"
      ],
      "text/plain": [
       "              Metrica          Tipo de Dato                Valor  \\\n",
       "0     sharpe_original              Cantidad             -1.95717   \n",
       "1  sharpe_actualizado              Cantidad             -1.95655   \n",
       "2       drawdown_capi         Fecha Inicial  2022-09-26 18:27:04   \n",
       "3       drawdown_capi           Fecha Final  2022-09-26 18:45:12   \n",
       "4       drawdown_capi  DrawDown $ (capital)              90786.6   \n",
       "5         drawup_capi         Fecha Inicial  2022-09-19 17:43:12   \n",
       "6         drawup_capi           Fecha Final  2022-09-19 22:56:49   \n",
       "7         drawup_capi    DrawUp $ (capital)              99964.9   \n",
       "\n",
       "                             Descripcion  \n",
       "0          Sharpe Ratio Fórmula Original  \n",
       "1          Sharpe Ratio Fórmula Ajustada  \n",
       "2  Fecha inicial del DrawDown de Capital  \n",
       "3    Fecha final del DrawDown de Capital  \n",
       "4     Máxima pérdida flotante registrada  \n",
       "5    Fecha inicial del DrawUp de Capital  \n",
       "6      Fecha final del DrawUp de Capital  \n",
       "7    Máxima ganancia flotante registrada  "
      ]
     },
     "execution_count": 18,
     "metadata": {},
     "output_type": "execute_result"
    }
   ],
   "source": [
    "# Tabla MAD, MAOC\n",
    "dt.metricas_m"
   ]
  },
  {
   "cell_type": "markdown",
   "metadata": {},
   "source": [
    "Como respuesta a esto, se tiene que los rendimientos generados por los tres intregrantes no superan la tasa libre de riesgo, lo cual se observa al notar que los valores de las metricas de Sharpe de los 3 reportes estan por debajo de 0. "
   ]
  },
  {
   "cell_type": "markdown",
   "metadata": {},
   "source": [
    "## <font color= #6B6B6B> 4.5 Tabla Comportamiento Financiero y sesgos de Inversion </font>"
   ]
  },
  {
   "cell_type": "markdown",
   "metadata": {},
   "source": [
    "La tabla de desempeño fue creada como un dataframe que almacena y expone variables creadas que califican el comportamiento de cada inversion. Dichas variables son el rendimiento mensual promedio, el rendimiento mensual acumulado final y el indice de sharpe; cada variable fue aplicada a los resultados de cada estrategia de inversion."
   ]
  },
  {
   "cell_type": "code",
   "execution_count": 19,
   "metadata": {},
   "outputs": [
    {
     "data": {
      "text/plain": [
       "{'Ocurrencias': {'Cantidad': 14,\n",
       "  'Ocurrencia 1': {'timestamp': Timestamp('2022-09-15 21:18:35'),\n",
       "   'Operaciones': {'Ganadoras': {'Instrumento': 0.0,\n",
       "     'Volumen': 0.0,\n",
       "     'Sentido': 0.0,\n",
       "     'Profit_ganadora': 0.0},\n",
       "    'Perdedoras': {'Instrumento': 0.0,\n",
       "     'Volumen': 0.0,\n",
       "     'Sentido': 0.0,\n",
       "     'Profit_ganadora': 0.0}},\n",
       "   'ratio_cp_profit_acm': nan,\n",
       "   'ratio_cg_profit_acm': nan,\n",
       "   'ratio_cp_cg': nan},\n",
       "  'Ocurrencia 2': {'timestamp': Timestamp('2022-09-16 21:56:01'),\n",
       "   'Operaciones': {'Ganadoras': {'Instrumento': 0.0,\n",
       "     'Volumen': 0.0,\n",
       "     'Sentido': 0.0,\n",
       "     'Profit_ganadora': 0.0},\n",
       "    'Perdedoras': {'Instrumento': 0.0,\n",
       "     'Volumen': 0.0,\n",
       "     'Sentido': 0.0,\n",
       "     'Profit_ganadora': 0.0}},\n",
       "   'ratio_cp_profit_acm': nan,\n",
       "   'ratio_cg_profit_acm': nan,\n",
       "   'ratio_cp_cg': nan},\n",
       "  'Ocurrencia 3': {'timestamp': Timestamp('2022-09-20 01:13:37'),\n",
       "   'Operaciones': {'Ganadoras': {'Instrumento': 0.0,\n",
       "     'Volumen': 0.0,\n",
       "     'Sentido': 0.0,\n",
       "     'Profit_ganadora': 0.0},\n",
       "    'Perdedoras': {'Instrumento': 'GBPUSD',\n",
       "     'Volumen': 0.1,\n",
       "     'Sentido': 'buy',\n",
       "     'Profit_ganadora': -38.1}},\n",
       "   'ratio_cp_profit_acm': 11.11,\n",
       "   'ratio_cg_profit_acm': nan,\n",
       "   'ratio_cp_cg': inf},\n",
       "  'Ocurrencia 4': {'timestamp': Timestamp('2022-09-19 02:37:19'),\n",
       "   'Operaciones': {'Ganadoras': {'Instrumento': 'EURUSD',\n",
       "     'Volumen': 0.1,\n",
       "     'Sentido': 'buy',\n",
       "     'Profit_ganadora': 26.2},\n",
       "    'Perdedoras': {'Instrumento': 'GBPUSD',\n",
       "     'Volumen': 0.1,\n",
       "     'Sentido': 'buy',\n",
       "     'Profit_ganadora': -38.1}},\n",
       "   'ratio_cp_profit_acm': 11.11,\n",
       "   'ratio_cg_profit_acm': 1.26,\n",
       "   'ratio_cp_cg': 1.45},\n",
       "  'Ocurrencia 5': {'timestamp': Timestamp('2022-09-19 13:50:41'),\n",
       "   'Operaciones': {'Ganadoras': {'Instrumento': 'EURUSD',\n",
       "     'Volumen': 0.1,\n",
       "     'Sentido': 'buy',\n",
       "     'Profit_ganadora': 26.2},\n",
       "    'Perdedoras': {'Instrumento': 'GBPUSD',\n",
       "     'Volumen': 0.1,\n",
       "     'Sentido': 'buy',\n",
       "     'Profit_ganadora': -38.1}},\n",
       "   'ratio_cp_profit_acm': 11.11,\n",
       "   'ratio_cg_profit_acm': 1.26,\n",
       "   'ratio_cp_cg': 1.45},\n",
       "  'Ocurrencia 6': {'timestamp': Timestamp('2022-09-20 15:37:06'),\n",
       "   'Operaciones': {'Ganadoras': {'Instrumento': 0.0,\n",
       "     'Volumen': 0.0,\n",
       "     'Sentido': 0.0,\n",
       "     'Profit_ganadora': 0.0},\n",
       "    'Perdedoras': {'Instrumento': 'EURUSD',\n",
       "     'Volumen': 0.2,\n",
       "     'Sentido': 'buy',\n",
       "     'Profit_ganadora': -98.6}},\n",
       "   'ratio_cp_profit_acm': 0.55,\n",
       "   'ratio_cg_profit_acm': nan,\n",
       "   'ratio_cp_cg': inf},\n",
       "  'Ocurrencia 7': {'timestamp': Timestamp('2022-09-20 15:17:54'),\n",
       "   'Operaciones': {'Ganadoras': {'Instrumento': 'USDJPY',\n",
       "     'Volumen': 0.2,\n",
       "     'Sentido': 'buy',\n",
       "     'Profit_ganadora': 1.39},\n",
       "    'Perdedoras': {'Instrumento': 'EURUSD',\n",
       "     'Volumen': 0.2,\n",
       "     'Sentido': 'buy',\n",
       "     'Profit_ganadora': -98.6}},\n",
       "   'ratio_cp_profit_acm': 0.55,\n",
       "   'ratio_cg_profit_acm': 0.01,\n",
       "   'ratio_cp_cg': 70.94},\n",
       "  'Ocurrencia 8': {'timestamp': Timestamp('2022-09-20 15:23:01'),\n",
       "   'Operaciones': {'Ganadoras': {'Instrumento': 'USDJPY',\n",
       "     'Volumen': 0.2,\n",
       "     'Sentido': 'buy',\n",
       "     'Profit_ganadora': 1.39},\n",
       "    'Perdedoras': {'Instrumento': 'EURUSD',\n",
       "     'Volumen': 0.2,\n",
       "     'Sentido': 'buy',\n",
       "     'Profit_ganadora': -98.6}},\n",
       "   'ratio_cp_profit_acm': 0.55,\n",
       "   'ratio_cg_profit_acm': 0.01,\n",
       "   'ratio_cp_cg': 70.94},\n",
       "  'Ocurrencia 9': {'timestamp': Timestamp('2022-09-20 15:32:57'),\n",
       "   'Operaciones': {'Ganadoras': {'Instrumento': 'USDJPY',\n",
       "     'Volumen': 0.2,\n",
       "     'Sentido': 'buy',\n",
       "     'Profit_ganadora': 1.39},\n",
       "    'Perdedoras': {'Instrumento': 'EURUSD',\n",
       "     'Volumen': 0.2,\n",
       "     'Sentido': 'buy',\n",
       "     'Profit_ganadora': -98.6}},\n",
       "   'ratio_cp_profit_acm': 0.55,\n",
       "   'ratio_cg_profit_acm': 0.01,\n",
       "   'ratio_cp_cg': 70.94},\n",
       "  'Ocurrencia 10': {'timestamp': Timestamp('2022-09-20 17:11:45'),\n",
       "   'Operaciones': {'Ganadoras': {'Instrumento': 0.0,\n",
       "     'Volumen': 0.0,\n",
       "     'Sentido': 0.0,\n",
       "     'Profit_ganadora': 0.0},\n",
       "    'Perdedoras': {'Instrumento': 'EURUSD',\n",
       "     'Volumen': 0.2,\n",
       "     'Sentido': 'buy',\n",
       "     'Profit_ganadora': -98.6}},\n",
       "   'ratio_cp_profit_acm': 0.55,\n",
       "   'ratio_cg_profit_acm': nan,\n",
       "   'ratio_cp_cg': inf},\n",
       "  'Ocurrencia 11': {'timestamp': Timestamp('2022-09-20 16:51:18'),\n",
       "   'Operaciones': {'Ganadoras': {'Instrumento': 'USDJPY',\n",
       "     'Volumen': 0.1,\n",
       "     'Sentido': 'sell',\n",
       "     'Profit_ganadora': 0.28},\n",
       "    'Perdedoras': {'Instrumento': 'EURUSD',\n",
       "     'Volumen': 0.2,\n",
       "     'Sentido': 'buy',\n",
       "     'Profit_ganadora': -98.6}},\n",
       "   'ratio_cp_profit_acm': 0.55,\n",
       "   'ratio_cg_profit_acm': 0.0,\n",
       "   'ratio_cp_cg': 352.14},\n",
       "  'Ocurrencia 12': {'timestamp': Timestamp('2022-09-20 17:01:51'),\n",
       "   'Operaciones': {'Ganadoras': {'Instrumento': 'USDJPY',\n",
       "     'Volumen': 0.1,\n",
       "     'Sentido': 'sell',\n",
       "     'Profit_ganadora': 0.28},\n",
       "    'Perdedoras': {'Instrumento': 'EURUSD',\n",
       "     'Volumen': 0.2,\n",
       "     'Sentido': 'buy',\n",
       "     'Profit_ganadora': -98.6}},\n",
       "   'ratio_cp_profit_acm': 0.55,\n",
       "   'ratio_cg_profit_acm': 0.0,\n",
       "   'ratio_cp_cg': 352.14},\n",
       "  'Ocurrencia 13': {'timestamp': Timestamp('2022-09-21 01:25:32'),\n",
       "   'Operaciones': {'Ganadoras': {'Instrumento': 0.0,\n",
       "     'Volumen': 0.0,\n",
       "     'Sentido': 0.0,\n",
       "     'Profit_ganadora': 0.0},\n",
       "    'Perdedoras': {'Instrumento': 0.0,\n",
       "     'Volumen': 0.0,\n",
       "     'Sentido': 0.0,\n",
       "     'Profit_ganadora': 0.0}},\n",
       "   'ratio_cp_profit_acm': nan,\n",
       "   'ratio_cg_profit_acm': nan,\n",
       "   'ratio_cp_cg': nan},\n",
       "  'Ocurrencia 14': {'timestamp': Timestamp('2022-09-23 03:25:17'),\n",
       "   'Operaciones': {'Ganadoras': {'Instrumento': 0.0,\n",
       "     'Volumen': 0.0,\n",
       "     'Sentido': 0.0,\n",
       "     'Profit_ganadora': 0.0},\n",
       "    'Perdedoras': {'Instrumento': 0.0,\n",
       "     'Volumen': 0.0,\n",
       "     'Sentido': 0.0,\n",
       "     'Profit_ganadora': 0.0}},\n",
       "   'ratio_cp_profit_acm': nan,\n",
       "   'ratio_cg_profit_acm': nan,\n",
       "   'ratio_cp_cg': nan}}}"
      ]
     },
     "execution_count": 19,
     "metadata": {},
     "output_type": "execute_result"
    }
   ],
   "source": [
    "# Tabla Ocurrencias y Comportamiento de inversion\n",
    "fn.f_be_de(dt.datos4)"
   ]
  },
  {
   "cell_type": "markdown",
   "metadata": {},
   "source": [
    "# <font color= #6B6B6B> <font size = 6> 5. Conclusiones </font>"
   ]
  },
  {
   "cell_type": "markdown",
   "metadata": {},
   "source": [
    "<hr style=\"border:0.02in solid gray\"> </hr>"
   ]
  },
  {
   "cell_type": "markdown",
   "metadata": {},
   "source": [
    "Como inicio de este apartado, se recuperaran los resultados obtenidos en cada tabla descriptiva, asi como se hara uso de algunos graficos con el fin de visualizar dichos resultados de una manera mas clara.\n",
    "\n",
    "Para empezar, que claro que para poder hacer un analisis mas representativo seria conveniente tener un historico con mayor cantidad de operaciones, pero a pesar de esto se pudo exprimir suficiente informacion que apoya a conocer si las estrategias aplicadas en el trading son fructiferas o no estan logrando un beneficio positivo para nuestra inversion. Es de vital importancia en este nivel de inversion que un cliente y un asesor esten completamente de acuerdo con las inversiones o los riesgos que en este caso el trader puede efectuar, como vimos en algunos de los Excel de los compañeros fue complicado en 2 semanas generar rendimientos positivos y como era de esperar nuestro radio de sharpe fue negativo en menor o mayor proporcion, un ejemplo de esto fue uno de los trades que se tuvieron tuvo un sharpe de -1.9 aproximadamente, esto quiere decir que es casi 200 veces menos efectico que la tasa libre de riesgos que te pueda ofrecer instrumentos gubernamentales de alrededor de 8% o incluso deuda gubernamental que puede estar sobre TIIe + 1.5%, es aqui donde un inversor tiene que estar consciente de este tema ya que no es nada facil superar la tasas que podria darte una inversion aceptando el minimo de riesgo y que la ganancia en porcentaje puede ser abismal ya que se pueden generar rendimientos de mas del 40% anual este rendimiento tambien puede ser negativo y nuestro cliente debe tener eso en cuenta si es que esta dispuesto a arriesgar una inversion de esa manera, con los diferentes metodos de trading que pudimos tener en el laboratorio 2 junto con este laboratorio 3 se tuvieron muchos aprendizajes, nos pudimos dar cuenta de las diferentes tecnicas que podemos tener a la hora de hacer trading discrecional con analisis tecnico y el como analizar estos trades con la estadistica descriptiva que nos dio una mejor idea de como nos fue con las diferentes tecnicas que vimos en el laboratorio pasados y algunas otras tecnicas como las visualizaciones que nos apoyan en mostrar de mejor manera como es que nos fue durante estos dias que se estuvo haciendo trading."
   ]
  },
  {
   "cell_type": "markdown",
   "metadata": {},
   "source": [
    "## 5.1 Ponderacion operaciones ganadoras"
   ]
  },
  {
   "cell_type": "markdown",
   "metadata": {},
   "source": [
    "En este grafico se pueden apreciar el margen de operaciones ganadoras que realizo cada individuo y como dichas operaciones se distribuyen en los distintos instrumentos de inversion de que cada quien decidio por utilizar. A primera instancia, la mayor parte de los instrumentos utlizados pertencen al area de Forex y divisas, esto debido a que la pagina de la pagina web FX Pro da de facto dichos instrumentos. "
   ]
  },
  {
   "cell_type": "code",
   "execution_count": 20,
   "metadata": {},
   "outputs": [
    {
     "data": {
      "application/vnd.plotly.v1+json": {
       "config": {
        "plotlyServerURL": "https://plot.ly"
       },
       "data": [
        {
         "labels": [
          "GBPJPY",
          "USDJPY",
          "EURGBP",
          "EURUSD",
          "AUDUSD"
         ],
         "pull": [
          0.15,
          0,
          0,
          0
         ],
         "type": "pie",
         "values": [
          1,
          0.8,
          0.67,
          0.38,
          0.33
         ]
        }
       ],
       "layout": {
        "font": {
         "color": "black",
         "size": 15
        },
        "legend": {
         "title": {
          "text": "Symbols"
         }
        },
        "template": {
         "data": {
          "bar": [
           {
            "error_x": {
             "color": "#2a3f5f"
            },
            "error_y": {
             "color": "#2a3f5f"
            },
            "marker": {
             "line": {
              "color": "#E5ECF6",
              "width": 0.5
             },
             "pattern": {
              "fillmode": "overlay",
              "size": 10,
              "solidity": 0.2
             }
            },
            "type": "bar"
           }
          ],
          "barpolar": [
           {
            "marker": {
             "line": {
              "color": "#E5ECF6",
              "width": 0.5
             },
             "pattern": {
              "fillmode": "overlay",
              "size": 10,
              "solidity": 0.2
             }
            },
            "type": "barpolar"
           }
          ],
          "carpet": [
           {
            "aaxis": {
             "endlinecolor": "#2a3f5f",
             "gridcolor": "white",
             "linecolor": "white",
             "minorgridcolor": "white",
             "startlinecolor": "#2a3f5f"
            },
            "baxis": {
             "endlinecolor": "#2a3f5f",
             "gridcolor": "white",
             "linecolor": "white",
             "minorgridcolor": "white",
             "startlinecolor": "#2a3f5f"
            },
            "type": "carpet"
           }
          ],
          "choropleth": [
           {
            "colorbar": {
             "outlinewidth": 0,
             "ticks": ""
            },
            "type": "choropleth"
           }
          ],
          "contour": [
           {
            "colorbar": {
             "outlinewidth": 0,
             "ticks": ""
            },
            "colorscale": [
             [
              0,
              "#0d0887"
             ],
             [
              0.1111111111111111,
              "#46039f"
             ],
             [
              0.2222222222222222,
              "#7201a8"
             ],
             [
              0.3333333333333333,
              "#9c179e"
             ],
             [
              0.4444444444444444,
              "#bd3786"
             ],
             [
              0.5555555555555556,
              "#d8576b"
             ],
             [
              0.6666666666666666,
              "#ed7953"
             ],
             [
              0.7777777777777778,
              "#fb9f3a"
             ],
             [
              0.8888888888888888,
              "#fdca26"
             ],
             [
              1,
              "#f0f921"
             ]
            ],
            "type": "contour"
           }
          ],
          "contourcarpet": [
           {
            "colorbar": {
             "outlinewidth": 0,
             "ticks": ""
            },
            "type": "contourcarpet"
           }
          ],
          "heatmap": [
           {
            "colorbar": {
             "outlinewidth": 0,
             "ticks": ""
            },
            "colorscale": [
             [
              0,
              "#0d0887"
             ],
             [
              0.1111111111111111,
              "#46039f"
             ],
             [
              0.2222222222222222,
              "#7201a8"
             ],
             [
              0.3333333333333333,
              "#9c179e"
             ],
             [
              0.4444444444444444,
              "#bd3786"
             ],
             [
              0.5555555555555556,
              "#d8576b"
             ],
             [
              0.6666666666666666,
              "#ed7953"
             ],
             [
              0.7777777777777778,
              "#fb9f3a"
             ],
             [
              0.8888888888888888,
              "#fdca26"
             ],
             [
              1,
              "#f0f921"
             ]
            ],
            "type": "heatmap"
           }
          ],
          "heatmapgl": [
           {
            "colorbar": {
             "outlinewidth": 0,
             "ticks": ""
            },
            "colorscale": [
             [
              0,
              "#0d0887"
             ],
             [
              0.1111111111111111,
              "#46039f"
             ],
             [
              0.2222222222222222,
              "#7201a8"
             ],
             [
              0.3333333333333333,
              "#9c179e"
             ],
             [
              0.4444444444444444,
              "#bd3786"
             ],
             [
              0.5555555555555556,
              "#d8576b"
             ],
             [
              0.6666666666666666,
              "#ed7953"
             ],
             [
              0.7777777777777778,
              "#fb9f3a"
             ],
             [
              0.8888888888888888,
              "#fdca26"
             ],
             [
              1,
              "#f0f921"
             ]
            ],
            "type": "heatmapgl"
           }
          ],
          "histogram": [
           {
            "marker": {
             "pattern": {
              "fillmode": "overlay",
              "size": 10,
              "solidity": 0.2
             }
            },
            "type": "histogram"
           }
          ],
          "histogram2d": [
           {
            "colorbar": {
             "outlinewidth": 0,
             "ticks": ""
            },
            "colorscale": [
             [
              0,
              "#0d0887"
             ],
             [
              0.1111111111111111,
              "#46039f"
             ],
             [
              0.2222222222222222,
              "#7201a8"
             ],
             [
              0.3333333333333333,
              "#9c179e"
             ],
             [
              0.4444444444444444,
              "#bd3786"
             ],
             [
              0.5555555555555556,
              "#d8576b"
             ],
             [
              0.6666666666666666,
              "#ed7953"
             ],
             [
              0.7777777777777778,
              "#fb9f3a"
             ],
             [
              0.8888888888888888,
              "#fdca26"
             ],
             [
              1,
              "#f0f921"
             ]
            ],
            "type": "histogram2d"
           }
          ],
          "histogram2dcontour": [
           {
            "colorbar": {
             "outlinewidth": 0,
             "ticks": ""
            },
            "colorscale": [
             [
              0,
              "#0d0887"
             ],
             [
              0.1111111111111111,
              "#46039f"
             ],
             [
              0.2222222222222222,
              "#7201a8"
             ],
             [
              0.3333333333333333,
              "#9c179e"
             ],
             [
              0.4444444444444444,
              "#bd3786"
             ],
             [
              0.5555555555555556,
              "#d8576b"
             ],
             [
              0.6666666666666666,
              "#ed7953"
             ],
             [
              0.7777777777777778,
              "#fb9f3a"
             ],
             [
              0.8888888888888888,
              "#fdca26"
             ],
             [
              1,
              "#f0f921"
             ]
            ],
            "type": "histogram2dcontour"
           }
          ],
          "mesh3d": [
           {
            "colorbar": {
             "outlinewidth": 0,
             "ticks": ""
            },
            "type": "mesh3d"
           }
          ],
          "parcoords": [
           {
            "line": {
             "colorbar": {
              "outlinewidth": 0,
              "ticks": ""
             }
            },
            "type": "parcoords"
           }
          ],
          "pie": [
           {
            "automargin": true,
            "type": "pie"
           }
          ],
          "scatter": [
           {
            "fillpattern": {
             "fillmode": "overlay",
             "size": 10,
             "solidity": 0.2
            },
            "type": "scatter"
           }
          ],
          "scatter3d": [
           {
            "line": {
             "colorbar": {
              "outlinewidth": 0,
              "ticks": ""
             }
            },
            "marker": {
             "colorbar": {
              "outlinewidth": 0,
              "ticks": ""
             }
            },
            "type": "scatter3d"
           }
          ],
          "scattercarpet": [
           {
            "marker": {
             "colorbar": {
              "outlinewidth": 0,
              "ticks": ""
             }
            },
            "type": "scattercarpet"
           }
          ],
          "scattergeo": [
           {
            "marker": {
             "colorbar": {
              "outlinewidth": 0,
              "ticks": ""
             }
            },
            "type": "scattergeo"
           }
          ],
          "scattergl": [
           {
            "marker": {
             "colorbar": {
              "outlinewidth": 0,
              "ticks": ""
             }
            },
            "type": "scattergl"
           }
          ],
          "scattermapbox": [
           {
            "marker": {
             "colorbar": {
              "outlinewidth": 0,
              "ticks": ""
             }
            },
            "type": "scattermapbox"
           }
          ],
          "scatterpolar": [
           {
            "marker": {
             "colorbar": {
              "outlinewidth": 0,
              "ticks": ""
             }
            },
            "type": "scatterpolar"
           }
          ],
          "scatterpolargl": [
           {
            "marker": {
             "colorbar": {
              "outlinewidth": 0,
              "ticks": ""
             }
            },
            "type": "scatterpolargl"
           }
          ],
          "scatterternary": [
           {
            "marker": {
             "colorbar": {
              "outlinewidth": 0,
              "ticks": ""
             }
            },
            "type": "scatterternary"
           }
          ],
          "surface": [
           {
            "colorbar": {
             "outlinewidth": 0,
             "ticks": ""
            },
            "colorscale": [
             [
              0,
              "#0d0887"
             ],
             [
              0.1111111111111111,
              "#46039f"
             ],
             [
              0.2222222222222222,
              "#7201a8"
             ],
             [
              0.3333333333333333,
              "#9c179e"
             ],
             [
              0.4444444444444444,
              "#bd3786"
             ],
             [
              0.5555555555555556,
              "#d8576b"
             ],
             [
              0.6666666666666666,
              "#ed7953"
             ],
             [
              0.7777777777777778,
              "#fb9f3a"
             ],
             [
              0.8888888888888888,
              "#fdca26"
             ],
             [
              1,
              "#f0f921"
             ]
            ],
            "type": "surface"
           }
          ],
          "table": [
           {
            "cells": {
             "fill": {
              "color": "#EBF0F8"
             },
             "line": {
              "color": "white"
             }
            },
            "header": {
             "fill": {
              "color": "#C8D4E3"
             },
             "line": {
              "color": "white"
             }
            },
            "type": "table"
           }
          ]
         },
         "layout": {
          "annotationdefaults": {
           "arrowcolor": "#2a3f5f",
           "arrowhead": 0,
           "arrowwidth": 1
          },
          "autotypenumbers": "strict",
          "coloraxis": {
           "colorbar": {
            "outlinewidth": 0,
            "ticks": ""
           }
          },
          "colorscale": {
           "diverging": [
            [
             0,
             "#8e0152"
            ],
            [
             0.1,
             "#c51b7d"
            ],
            [
             0.2,
             "#de77ae"
            ],
            [
             0.3,
             "#f1b6da"
            ],
            [
             0.4,
             "#fde0ef"
            ],
            [
             0.5,
             "#f7f7f7"
            ],
            [
             0.6,
             "#e6f5d0"
            ],
            [
             0.7,
             "#b8e186"
            ],
            [
             0.8,
             "#7fbc41"
            ],
            [
             0.9,
             "#4d9221"
            ],
            [
             1,
             "#276419"
            ]
           ],
           "sequential": [
            [
             0,
             "#0d0887"
            ],
            [
             0.1111111111111111,
             "#46039f"
            ],
            [
             0.2222222222222222,
             "#7201a8"
            ],
            [
             0.3333333333333333,
             "#9c179e"
            ],
            [
             0.4444444444444444,
             "#bd3786"
            ],
            [
             0.5555555555555556,
             "#d8576b"
            ],
            [
             0.6666666666666666,
             "#ed7953"
            ],
            [
             0.7777777777777778,
             "#fb9f3a"
            ],
            [
             0.8888888888888888,
             "#fdca26"
            ],
            [
             1,
             "#f0f921"
            ]
           ],
           "sequentialminus": [
            [
             0,
             "#0d0887"
            ],
            [
             0.1111111111111111,
             "#46039f"
            ],
            [
             0.2222222222222222,
             "#7201a8"
            ],
            [
             0.3333333333333333,
             "#9c179e"
            ],
            [
             0.4444444444444444,
             "#bd3786"
            ],
            [
             0.5555555555555556,
             "#d8576b"
            ],
            [
             0.6666666666666666,
             "#ed7953"
            ],
            [
             0.7777777777777778,
             "#fb9f3a"
            ],
            [
             0.8888888888888888,
             "#fdca26"
            ],
            [
             1,
             "#f0f921"
            ]
           ]
          },
          "colorway": [
           "#636efa",
           "#EF553B",
           "#00cc96",
           "#ab63fa",
           "#FFA15A",
           "#19d3f3",
           "#FF6692",
           "#B6E880",
           "#FF97FF",
           "#FECB52"
          ],
          "font": {
           "color": "#2a3f5f"
          },
          "geo": {
           "bgcolor": "white",
           "lakecolor": "white",
           "landcolor": "#E5ECF6",
           "showlakes": true,
           "showland": true,
           "subunitcolor": "white"
          },
          "hoverlabel": {
           "align": "left"
          },
          "hovermode": "closest",
          "mapbox": {
           "style": "light"
          },
          "paper_bgcolor": "white",
          "plot_bgcolor": "#E5ECF6",
          "polar": {
           "angularaxis": {
            "gridcolor": "white",
            "linecolor": "white",
            "ticks": ""
           },
           "bgcolor": "#E5ECF6",
           "radialaxis": {
            "gridcolor": "white",
            "linecolor": "white",
            "ticks": ""
           }
          },
          "scene": {
           "xaxis": {
            "backgroundcolor": "#E5ECF6",
            "gridcolor": "white",
            "gridwidth": 2,
            "linecolor": "white",
            "showbackground": true,
            "ticks": "",
            "zerolinecolor": "white"
           },
           "yaxis": {
            "backgroundcolor": "#E5ECF6",
            "gridcolor": "white",
            "gridwidth": 2,
            "linecolor": "white",
            "showbackground": true,
            "ticks": "",
            "zerolinecolor": "white"
           },
           "zaxis": {
            "backgroundcolor": "#E5ECF6",
            "gridcolor": "white",
            "gridwidth": 2,
            "linecolor": "white",
            "showbackground": true,
            "ticks": "",
            "zerolinecolor": "white"
           }
          },
          "shapedefaults": {
           "line": {
            "color": "#2a3f5f"
           }
          },
          "ternary": {
           "aaxis": {
            "gridcolor": "white",
            "linecolor": "white",
            "ticks": ""
           },
           "baxis": {
            "gridcolor": "white",
            "linecolor": "white",
            "ticks": ""
           },
           "bgcolor": "#E5ECF6",
           "caxis": {
            "gridcolor": "white",
            "linecolor": "white",
            "ticks": ""
           }
          },
          "title": {
           "x": 0.05
          },
          "xaxis": {
           "automargin": true,
           "gridcolor": "white",
           "linecolor": "white",
           "ticks": "",
           "title": {
            "standoff": 15
           },
           "zerolinecolor": "white",
           "zerolinewidth": 2
          },
          "yaxis": {
           "automargin": true,
           "gridcolor": "white",
           "linecolor": "white",
           "ticks": "",
           "title": {
            "standoff": 15
           },
           "zerolinecolor": "white",
           "zerolinewidth": 2
          }
         }
        },
        "title": {
         "text": "Rank Sucessful Ops"
        }
       }
      }
     },
     "metadata": {},
     "output_type": "display_data"
    }
   ],
   "source": [
    "# Ponderacion operaciones ganadoras, CCC\n",
    "vs.plot_pie_graph(dt.df_2_tabla_c)"
   ]
  },
  {
   "cell_type": "code",
   "execution_count": 21,
   "metadata": {},
   "outputs": [
    {
     "data": {
      "application/vnd.plotly.v1+json": {
       "config": {
        "plotlyServerURL": "https://plot.ly"
       },
       "data": [
        {
         "labels": [
          "EURUSD",
          "USDMXN"
         ],
         "pull": [
          0.15,
          0,
          0,
          0
         ],
         "type": "pie",
         "values": [
          0.91,
          0.65
         ]
        }
       ],
       "layout": {
        "font": {
         "color": "black",
         "size": 15
        },
        "legend": {
         "title": {
          "text": "Symbols"
         }
        },
        "template": {
         "data": {
          "bar": [
           {
            "error_x": {
             "color": "#2a3f5f"
            },
            "error_y": {
             "color": "#2a3f5f"
            },
            "marker": {
             "line": {
              "color": "#E5ECF6",
              "width": 0.5
             },
             "pattern": {
              "fillmode": "overlay",
              "size": 10,
              "solidity": 0.2
             }
            },
            "type": "bar"
           }
          ],
          "barpolar": [
           {
            "marker": {
             "line": {
              "color": "#E5ECF6",
              "width": 0.5
             },
             "pattern": {
              "fillmode": "overlay",
              "size": 10,
              "solidity": 0.2
             }
            },
            "type": "barpolar"
           }
          ],
          "carpet": [
           {
            "aaxis": {
             "endlinecolor": "#2a3f5f",
             "gridcolor": "white",
             "linecolor": "white",
             "minorgridcolor": "white",
             "startlinecolor": "#2a3f5f"
            },
            "baxis": {
             "endlinecolor": "#2a3f5f",
             "gridcolor": "white",
             "linecolor": "white",
             "minorgridcolor": "white",
             "startlinecolor": "#2a3f5f"
            },
            "type": "carpet"
           }
          ],
          "choropleth": [
           {
            "colorbar": {
             "outlinewidth": 0,
             "ticks": ""
            },
            "type": "choropleth"
           }
          ],
          "contour": [
           {
            "colorbar": {
             "outlinewidth": 0,
             "ticks": ""
            },
            "colorscale": [
             [
              0,
              "#0d0887"
             ],
             [
              0.1111111111111111,
              "#46039f"
             ],
             [
              0.2222222222222222,
              "#7201a8"
             ],
             [
              0.3333333333333333,
              "#9c179e"
             ],
             [
              0.4444444444444444,
              "#bd3786"
             ],
             [
              0.5555555555555556,
              "#d8576b"
             ],
             [
              0.6666666666666666,
              "#ed7953"
             ],
             [
              0.7777777777777778,
              "#fb9f3a"
             ],
             [
              0.8888888888888888,
              "#fdca26"
             ],
             [
              1,
              "#f0f921"
             ]
            ],
            "type": "contour"
           }
          ],
          "contourcarpet": [
           {
            "colorbar": {
             "outlinewidth": 0,
             "ticks": ""
            },
            "type": "contourcarpet"
           }
          ],
          "heatmap": [
           {
            "colorbar": {
             "outlinewidth": 0,
             "ticks": ""
            },
            "colorscale": [
             [
              0,
              "#0d0887"
             ],
             [
              0.1111111111111111,
              "#46039f"
             ],
             [
              0.2222222222222222,
              "#7201a8"
             ],
             [
              0.3333333333333333,
              "#9c179e"
             ],
             [
              0.4444444444444444,
              "#bd3786"
             ],
             [
              0.5555555555555556,
              "#d8576b"
             ],
             [
              0.6666666666666666,
              "#ed7953"
             ],
             [
              0.7777777777777778,
              "#fb9f3a"
             ],
             [
              0.8888888888888888,
              "#fdca26"
             ],
             [
              1,
              "#f0f921"
             ]
            ],
            "type": "heatmap"
           }
          ],
          "heatmapgl": [
           {
            "colorbar": {
             "outlinewidth": 0,
             "ticks": ""
            },
            "colorscale": [
             [
              0,
              "#0d0887"
             ],
             [
              0.1111111111111111,
              "#46039f"
             ],
             [
              0.2222222222222222,
              "#7201a8"
             ],
             [
              0.3333333333333333,
              "#9c179e"
             ],
             [
              0.4444444444444444,
              "#bd3786"
             ],
             [
              0.5555555555555556,
              "#d8576b"
             ],
             [
              0.6666666666666666,
              "#ed7953"
             ],
             [
              0.7777777777777778,
              "#fb9f3a"
             ],
             [
              0.8888888888888888,
              "#fdca26"
             ],
             [
              1,
              "#f0f921"
             ]
            ],
            "type": "heatmapgl"
           }
          ],
          "histogram": [
           {
            "marker": {
             "pattern": {
              "fillmode": "overlay",
              "size": 10,
              "solidity": 0.2
             }
            },
            "type": "histogram"
           }
          ],
          "histogram2d": [
           {
            "colorbar": {
             "outlinewidth": 0,
             "ticks": ""
            },
            "colorscale": [
             [
              0,
              "#0d0887"
             ],
             [
              0.1111111111111111,
              "#46039f"
             ],
             [
              0.2222222222222222,
              "#7201a8"
             ],
             [
              0.3333333333333333,
              "#9c179e"
             ],
             [
              0.4444444444444444,
              "#bd3786"
             ],
             [
              0.5555555555555556,
              "#d8576b"
             ],
             [
              0.6666666666666666,
              "#ed7953"
             ],
             [
              0.7777777777777778,
              "#fb9f3a"
             ],
             [
              0.8888888888888888,
              "#fdca26"
             ],
             [
              1,
              "#f0f921"
             ]
            ],
            "type": "histogram2d"
           }
          ],
          "histogram2dcontour": [
           {
            "colorbar": {
             "outlinewidth": 0,
             "ticks": ""
            },
            "colorscale": [
             [
              0,
              "#0d0887"
             ],
             [
              0.1111111111111111,
              "#46039f"
             ],
             [
              0.2222222222222222,
              "#7201a8"
             ],
             [
              0.3333333333333333,
              "#9c179e"
             ],
             [
              0.4444444444444444,
              "#bd3786"
             ],
             [
              0.5555555555555556,
              "#d8576b"
             ],
             [
              0.6666666666666666,
              "#ed7953"
             ],
             [
              0.7777777777777778,
              "#fb9f3a"
             ],
             [
              0.8888888888888888,
              "#fdca26"
             ],
             [
              1,
              "#f0f921"
             ]
            ],
            "type": "histogram2dcontour"
           }
          ],
          "mesh3d": [
           {
            "colorbar": {
             "outlinewidth": 0,
             "ticks": ""
            },
            "type": "mesh3d"
           }
          ],
          "parcoords": [
           {
            "line": {
             "colorbar": {
              "outlinewidth": 0,
              "ticks": ""
             }
            },
            "type": "parcoords"
           }
          ],
          "pie": [
           {
            "automargin": true,
            "type": "pie"
           }
          ],
          "scatter": [
           {
            "fillpattern": {
             "fillmode": "overlay",
             "size": 10,
             "solidity": 0.2
            },
            "type": "scatter"
           }
          ],
          "scatter3d": [
           {
            "line": {
             "colorbar": {
              "outlinewidth": 0,
              "ticks": ""
             }
            },
            "marker": {
             "colorbar": {
              "outlinewidth": 0,
              "ticks": ""
             }
            },
            "type": "scatter3d"
           }
          ],
          "scattercarpet": [
           {
            "marker": {
             "colorbar": {
              "outlinewidth": 0,
              "ticks": ""
             }
            },
            "type": "scattercarpet"
           }
          ],
          "scattergeo": [
           {
            "marker": {
             "colorbar": {
              "outlinewidth": 0,
              "ticks": ""
             }
            },
            "type": "scattergeo"
           }
          ],
          "scattergl": [
           {
            "marker": {
             "colorbar": {
              "outlinewidth": 0,
              "ticks": ""
             }
            },
            "type": "scattergl"
           }
          ],
          "scattermapbox": [
           {
            "marker": {
             "colorbar": {
              "outlinewidth": 0,
              "ticks": ""
             }
            },
            "type": "scattermapbox"
           }
          ],
          "scatterpolar": [
           {
            "marker": {
             "colorbar": {
              "outlinewidth": 0,
              "ticks": ""
             }
            },
            "type": "scatterpolar"
           }
          ],
          "scatterpolargl": [
           {
            "marker": {
             "colorbar": {
              "outlinewidth": 0,
              "ticks": ""
             }
            },
            "type": "scatterpolargl"
           }
          ],
          "scatterternary": [
           {
            "marker": {
             "colorbar": {
              "outlinewidth": 0,
              "ticks": ""
             }
            },
            "type": "scatterternary"
           }
          ],
          "surface": [
           {
            "colorbar": {
             "outlinewidth": 0,
             "ticks": ""
            },
            "colorscale": [
             [
              0,
              "#0d0887"
             ],
             [
              0.1111111111111111,
              "#46039f"
             ],
             [
              0.2222222222222222,
              "#7201a8"
             ],
             [
              0.3333333333333333,
              "#9c179e"
             ],
             [
              0.4444444444444444,
              "#bd3786"
             ],
             [
              0.5555555555555556,
              "#d8576b"
             ],
             [
              0.6666666666666666,
              "#ed7953"
             ],
             [
              0.7777777777777778,
              "#fb9f3a"
             ],
             [
              0.8888888888888888,
              "#fdca26"
             ],
             [
              1,
              "#f0f921"
             ]
            ],
            "type": "surface"
           }
          ],
          "table": [
           {
            "cells": {
             "fill": {
              "color": "#EBF0F8"
             },
             "line": {
              "color": "white"
             }
            },
            "header": {
             "fill": {
              "color": "#C8D4E3"
             },
             "line": {
              "color": "white"
             }
            },
            "type": "table"
           }
          ]
         },
         "layout": {
          "annotationdefaults": {
           "arrowcolor": "#2a3f5f",
           "arrowhead": 0,
           "arrowwidth": 1
          },
          "autotypenumbers": "strict",
          "coloraxis": {
           "colorbar": {
            "outlinewidth": 0,
            "ticks": ""
           }
          },
          "colorscale": {
           "diverging": [
            [
             0,
             "#8e0152"
            ],
            [
             0.1,
             "#c51b7d"
            ],
            [
             0.2,
             "#de77ae"
            ],
            [
             0.3,
             "#f1b6da"
            ],
            [
             0.4,
             "#fde0ef"
            ],
            [
             0.5,
             "#f7f7f7"
            ],
            [
             0.6,
             "#e6f5d0"
            ],
            [
             0.7,
             "#b8e186"
            ],
            [
             0.8,
             "#7fbc41"
            ],
            [
             0.9,
             "#4d9221"
            ],
            [
             1,
             "#276419"
            ]
           ],
           "sequential": [
            [
             0,
             "#0d0887"
            ],
            [
             0.1111111111111111,
             "#46039f"
            ],
            [
             0.2222222222222222,
             "#7201a8"
            ],
            [
             0.3333333333333333,
             "#9c179e"
            ],
            [
             0.4444444444444444,
             "#bd3786"
            ],
            [
             0.5555555555555556,
             "#d8576b"
            ],
            [
             0.6666666666666666,
             "#ed7953"
            ],
            [
             0.7777777777777778,
             "#fb9f3a"
            ],
            [
             0.8888888888888888,
             "#fdca26"
            ],
            [
             1,
             "#f0f921"
            ]
           ],
           "sequentialminus": [
            [
             0,
             "#0d0887"
            ],
            [
             0.1111111111111111,
             "#46039f"
            ],
            [
             0.2222222222222222,
             "#7201a8"
            ],
            [
             0.3333333333333333,
             "#9c179e"
            ],
            [
             0.4444444444444444,
             "#bd3786"
            ],
            [
             0.5555555555555556,
             "#d8576b"
            ],
            [
             0.6666666666666666,
             "#ed7953"
            ],
            [
             0.7777777777777778,
             "#fb9f3a"
            ],
            [
             0.8888888888888888,
             "#fdca26"
            ],
            [
             1,
             "#f0f921"
            ]
           ]
          },
          "colorway": [
           "#636efa",
           "#EF553B",
           "#00cc96",
           "#ab63fa",
           "#FFA15A",
           "#19d3f3",
           "#FF6692",
           "#B6E880",
           "#FF97FF",
           "#FECB52"
          ],
          "font": {
           "color": "#2a3f5f"
          },
          "geo": {
           "bgcolor": "white",
           "lakecolor": "white",
           "landcolor": "#E5ECF6",
           "showlakes": true,
           "showland": true,
           "subunitcolor": "white"
          },
          "hoverlabel": {
           "align": "left"
          },
          "hovermode": "closest",
          "mapbox": {
           "style": "light"
          },
          "paper_bgcolor": "white",
          "plot_bgcolor": "#E5ECF6",
          "polar": {
           "angularaxis": {
            "gridcolor": "white",
            "linecolor": "white",
            "ticks": ""
           },
           "bgcolor": "#E5ECF6",
           "radialaxis": {
            "gridcolor": "white",
            "linecolor": "white",
            "ticks": ""
           }
          },
          "scene": {
           "xaxis": {
            "backgroundcolor": "#E5ECF6",
            "gridcolor": "white",
            "gridwidth": 2,
            "linecolor": "white",
            "showbackground": true,
            "ticks": "",
            "zerolinecolor": "white"
           },
           "yaxis": {
            "backgroundcolor": "#E5ECF6",
            "gridcolor": "white",
            "gridwidth": 2,
            "linecolor": "white",
            "showbackground": true,
            "ticks": "",
            "zerolinecolor": "white"
           },
           "zaxis": {
            "backgroundcolor": "#E5ECF6",
            "gridcolor": "white",
            "gridwidth": 2,
            "linecolor": "white",
            "showbackground": true,
            "ticks": "",
            "zerolinecolor": "white"
           }
          },
          "shapedefaults": {
           "line": {
            "color": "#2a3f5f"
           }
          },
          "ternary": {
           "aaxis": {
            "gridcolor": "white",
            "linecolor": "white",
            "ticks": ""
           },
           "baxis": {
            "gridcolor": "white",
            "linecolor": "white",
            "ticks": ""
           },
           "bgcolor": "#E5ECF6",
           "caxis": {
            "gridcolor": "white",
            "linecolor": "white",
            "ticks": ""
           }
          },
          "title": {
           "x": 0.05
          },
          "xaxis": {
           "automargin": true,
           "gridcolor": "white",
           "linecolor": "white",
           "ticks": "",
           "title": {
            "standoff": 15
           },
           "zerolinecolor": "white",
           "zerolinewidth": 2
          },
          "yaxis": {
           "automargin": true,
           "gridcolor": "white",
           "linecolor": "white",
           "ticks": "",
           "title": {
            "standoff": 15
           },
           "zerolinecolor": "white",
           "zerolinewidth": 2
          }
         }
        },
        "title": {
         "text": "Rank Sucessful Ops"
        }
       }
      }
     },
     "metadata": {},
     "output_type": "display_data"
    }
   ],
   "source": [
    "# Ponderacion operaciones ganadoras, EMD\n",
    "vs.plot_pie_graph(dt.df_2_tabla_e)"
   ]
  },
  {
   "cell_type": "code",
   "execution_count": 22,
   "metadata": {},
   "outputs": [
    {
     "data": {
      "application/vnd.plotly.v1+json": {
       "config": {
        "plotlyServerURL": "https://plot.ly"
       },
       "data": [
        {
         "labels": [
          "TSLA.O",
          "#WHEAT_Z22",
          "GOLD",
          "#USSPX500",
          "#USNDAQ100",
          "WTI"
         ],
         "pull": [
          0.15,
          0,
          0,
          0
         ],
         "type": "pie",
         "values": [
          1,
          0.5,
          0.4,
          0.38,
          0.33,
          0.2
         ]
        }
       ],
       "layout": {
        "font": {
         "color": "black",
         "size": 15
        },
        "legend": {
         "title": {
          "text": "Symbols"
         }
        },
        "template": {
         "data": {
          "bar": [
           {
            "error_x": {
             "color": "#2a3f5f"
            },
            "error_y": {
             "color": "#2a3f5f"
            },
            "marker": {
             "line": {
              "color": "#E5ECF6",
              "width": 0.5
             },
             "pattern": {
              "fillmode": "overlay",
              "size": 10,
              "solidity": 0.2
             }
            },
            "type": "bar"
           }
          ],
          "barpolar": [
           {
            "marker": {
             "line": {
              "color": "#E5ECF6",
              "width": 0.5
             },
             "pattern": {
              "fillmode": "overlay",
              "size": 10,
              "solidity": 0.2
             }
            },
            "type": "barpolar"
           }
          ],
          "carpet": [
           {
            "aaxis": {
             "endlinecolor": "#2a3f5f",
             "gridcolor": "white",
             "linecolor": "white",
             "minorgridcolor": "white",
             "startlinecolor": "#2a3f5f"
            },
            "baxis": {
             "endlinecolor": "#2a3f5f",
             "gridcolor": "white",
             "linecolor": "white",
             "minorgridcolor": "white",
             "startlinecolor": "#2a3f5f"
            },
            "type": "carpet"
           }
          ],
          "choropleth": [
           {
            "colorbar": {
             "outlinewidth": 0,
             "ticks": ""
            },
            "type": "choropleth"
           }
          ],
          "contour": [
           {
            "colorbar": {
             "outlinewidth": 0,
             "ticks": ""
            },
            "colorscale": [
             [
              0,
              "#0d0887"
             ],
             [
              0.1111111111111111,
              "#46039f"
             ],
             [
              0.2222222222222222,
              "#7201a8"
             ],
             [
              0.3333333333333333,
              "#9c179e"
             ],
             [
              0.4444444444444444,
              "#bd3786"
             ],
             [
              0.5555555555555556,
              "#d8576b"
             ],
             [
              0.6666666666666666,
              "#ed7953"
             ],
             [
              0.7777777777777778,
              "#fb9f3a"
             ],
             [
              0.8888888888888888,
              "#fdca26"
             ],
             [
              1,
              "#f0f921"
             ]
            ],
            "type": "contour"
           }
          ],
          "contourcarpet": [
           {
            "colorbar": {
             "outlinewidth": 0,
             "ticks": ""
            },
            "type": "contourcarpet"
           }
          ],
          "heatmap": [
           {
            "colorbar": {
             "outlinewidth": 0,
             "ticks": ""
            },
            "colorscale": [
             [
              0,
              "#0d0887"
             ],
             [
              0.1111111111111111,
              "#46039f"
             ],
             [
              0.2222222222222222,
              "#7201a8"
             ],
             [
              0.3333333333333333,
              "#9c179e"
             ],
             [
              0.4444444444444444,
              "#bd3786"
             ],
             [
              0.5555555555555556,
              "#d8576b"
             ],
             [
              0.6666666666666666,
              "#ed7953"
             ],
             [
              0.7777777777777778,
              "#fb9f3a"
             ],
             [
              0.8888888888888888,
              "#fdca26"
             ],
             [
              1,
              "#f0f921"
             ]
            ],
            "type": "heatmap"
           }
          ],
          "heatmapgl": [
           {
            "colorbar": {
             "outlinewidth": 0,
             "ticks": ""
            },
            "colorscale": [
             [
              0,
              "#0d0887"
             ],
             [
              0.1111111111111111,
              "#46039f"
             ],
             [
              0.2222222222222222,
              "#7201a8"
             ],
             [
              0.3333333333333333,
              "#9c179e"
             ],
             [
              0.4444444444444444,
              "#bd3786"
             ],
             [
              0.5555555555555556,
              "#d8576b"
             ],
             [
              0.6666666666666666,
              "#ed7953"
             ],
             [
              0.7777777777777778,
              "#fb9f3a"
             ],
             [
              0.8888888888888888,
              "#fdca26"
             ],
             [
              1,
              "#f0f921"
             ]
            ],
            "type": "heatmapgl"
           }
          ],
          "histogram": [
           {
            "marker": {
             "pattern": {
              "fillmode": "overlay",
              "size": 10,
              "solidity": 0.2
             }
            },
            "type": "histogram"
           }
          ],
          "histogram2d": [
           {
            "colorbar": {
             "outlinewidth": 0,
             "ticks": ""
            },
            "colorscale": [
             [
              0,
              "#0d0887"
             ],
             [
              0.1111111111111111,
              "#46039f"
             ],
             [
              0.2222222222222222,
              "#7201a8"
             ],
             [
              0.3333333333333333,
              "#9c179e"
             ],
             [
              0.4444444444444444,
              "#bd3786"
             ],
             [
              0.5555555555555556,
              "#d8576b"
             ],
             [
              0.6666666666666666,
              "#ed7953"
             ],
             [
              0.7777777777777778,
              "#fb9f3a"
             ],
             [
              0.8888888888888888,
              "#fdca26"
             ],
             [
              1,
              "#f0f921"
             ]
            ],
            "type": "histogram2d"
           }
          ],
          "histogram2dcontour": [
           {
            "colorbar": {
             "outlinewidth": 0,
             "ticks": ""
            },
            "colorscale": [
             [
              0,
              "#0d0887"
             ],
             [
              0.1111111111111111,
              "#46039f"
             ],
             [
              0.2222222222222222,
              "#7201a8"
             ],
             [
              0.3333333333333333,
              "#9c179e"
             ],
             [
              0.4444444444444444,
              "#bd3786"
             ],
             [
              0.5555555555555556,
              "#d8576b"
             ],
             [
              0.6666666666666666,
              "#ed7953"
             ],
             [
              0.7777777777777778,
              "#fb9f3a"
             ],
             [
              0.8888888888888888,
              "#fdca26"
             ],
             [
              1,
              "#f0f921"
             ]
            ],
            "type": "histogram2dcontour"
           }
          ],
          "mesh3d": [
           {
            "colorbar": {
             "outlinewidth": 0,
             "ticks": ""
            },
            "type": "mesh3d"
           }
          ],
          "parcoords": [
           {
            "line": {
             "colorbar": {
              "outlinewidth": 0,
              "ticks": ""
             }
            },
            "type": "parcoords"
           }
          ],
          "pie": [
           {
            "automargin": true,
            "type": "pie"
           }
          ],
          "scatter": [
           {
            "fillpattern": {
             "fillmode": "overlay",
             "size": 10,
             "solidity": 0.2
            },
            "type": "scatter"
           }
          ],
          "scatter3d": [
           {
            "line": {
             "colorbar": {
              "outlinewidth": 0,
              "ticks": ""
             }
            },
            "marker": {
             "colorbar": {
              "outlinewidth": 0,
              "ticks": ""
             }
            },
            "type": "scatter3d"
           }
          ],
          "scattercarpet": [
           {
            "marker": {
             "colorbar": {
              "outlinewidth": 0,
              "ticks": ""
             }
            },
            "type": "scattercarpet"
           }
          ],
          "scattergeo": [
           {
            "marker": {
             "colorbar": {
              "outlinewidth": 0,
              "ticks": ""
             }
            },
            "type": "scattergeo"
           }
          ],
          "scattergl": [
           {
            "marker": {
             "colorbar": {
              "outlinewidth": 0,
              "ticks": ""
             }
            },
            "type": "scattergl"
           }
          ],
          "scattermapbox": [
           {
            "marker": {
             "colorbar": {
              "outlinewidth": 0,
              "ticks": ""
             }
            },
            "type": "scattermapbox"
           }
          ],
          "scatterpolar": [
           {
            "marker": {
             "colorbar": {
              "outlinewidth": 0,
              "ticks": ""
             }
            },
            "type": "scatterpolar"
           }
          ],
          "scatterpolargl": [
           {
            "marker": {
             "colorbar": {
              "outlinewidth": 0,
              "ticks": ""
             }
            },
            "type": "scatterpolargl"
           }
          ],
          "scatterternary": [
           {
            "marker": {
             "colorbar": {
              "outlinewidth": 0,
              "ticks": ""
             }
            },
            "type": "scatterternary"
           }
          ],
          "surface": [
           {
            "colorbar": {
             "outlinewidth": 0,
             "ticks": ""
            },
            "colorscale": [
             [
              0,
              "#0d0887"
             ],
             [
              0.1111111111111111,
              "#46039f"
             ],
             [
              0.2222222222222222,
              "#7201a8"
             ],
             [
              0.3333333333333333,
              "#9c179e"
             ],
             [
              0.4444444444444444,
              "#bd3786"
             ],
             [
              0.5555555555555556,
              "#d8576b"
             ],
             [
              0.6666666666666666,
              "#ed7953"
             ],
             [
              0.7777777777777778,
              "#fb9f3a"
             ],
             [
              0.8888888888888888,
              "#fdca26"
             ],
             [
              1,
              "#f0f921"
             ]
            ],
            "type": "surface"
           }
          ],
          "table": [
           {
            "cells": {
             "fill": {
              "color": "#EBF0F8"
             },
             "line": {
              "color": "white"
             }
            },
            "header": {
             "fill": {
              "color": "#C8D4E3"
             },
             "line": {
              "color": "white"
             }
            },
            "type": "table"
           }
          ]
         },
         "layout": {
          "annotationdefaults": {
           "arrowcolor": "#2a3f5f",
           "arrowhead": 0,
           "arrowwidth": 1
          },
          "autotypenumbers": "strict",
          "coloraxis": {
           "colorbar": {
            "outlinewidth": 0,
            "ticks": ""
           }
          },
          "colorscale": {
           "diverging": [
            [
             0,
             "#8e0152"
            ],
            [
             0.1,
             "#c51b7d"
            ],
            [
             0.2,
             "#de77ae"
            ],
            [
             0.3,
             "#f1b6da"
            ],
            [
             0.4,
             "#fde0ef"
            ],
            [
             0.5,
             "#f7f7f7"
            ],
            [
             0.6,
             "#e6f5d0"
            ],
            [
             0.7,
             "#b8e186"
            ],
            [
             0.8,
             "#7fbc41"
            ],
            [
             0.9,
             "#4d9221"
            ],
            [
             1,
             "#276419"
            ]
           ],
           "sequential": [
            [
             0,
             "#0d0887"
            ],
            [
             0.1111111111111111,
             "#46039f"
            ],
            [
             0.2222222222222222,
             "#7201a8"
            ],
            [
             0.3333333333333333,
             "#9c179e"
            ],
            [
             0.4444444444444444,
             "#bd3786"
            ],
            [
             0.5555555555555556,
             "#d8576b"
            ],
            [
             0.6666666666666666,
             "#ed7953"
            ],
            [
             0.7777777777777778,
             "#fb9f3a"
            ],
            [
             0.8888888888888888,
             "#fdca26"
            ],
            [
             1,
             "#f0f921"
            ]
           ],
           "sequentialminus": [
            [
             0,
             "#0d0887"
            ],
            [
             0.1111111111111111,
             "#46039f"
            ],
            [
             0.2222222222222222,
             "#7201a8"
            ],
            [
             0.3333333333333333,
             "#9c179e"
            ],
            [
             0.4444444444444444,
             "#bd3786"
            ],
            [
             0.5555555555555556,
             "#d8576b"
            ],
            [
             0.6666666666666666,
             "#ed7953"
            ],
            [
             0.7777777777777778,
             "#fb9f3a"
            ],
            [
             0.8888888888888888,
             "#fdca26"
            ],
            [
             1,
             "#f0f921"
            ]
           ]
          },
          "colorway": [
           "#636efa",
           "#EF553B",
           "#00cc96",
           "#ab63fa",
           "#FFA15A",
           "#19d3f3",
           "#FF6692",
           "#B6E880",
           "#FF97FF",
           "#FECB52"
          ],
          "font": {
           "color": "#2a3f5f"
          },
          "geo": {
           "bgcolor": "white",
           "lakecolor": "white",
           "landcolor": "#E5ECF6",
           "showlakes": true,
           "showland": true,
           "subunitcolor": "white"
          },
          "hoverlabel": {
           "align": "left"
          },
          "hovermode": "closest",
          "mapbox": {
           "style": "light"
          },
          "paper_bgcolor": "white",
          "plot_bgcolor": "#E5ECF6",
          "polar": {
           "angularaxis": {
            "gridcolor": "white",
            "linecolor": "white",
            "ticks": ""
           },
           "bgcolor": "#E5ECF6",
           "radialaxis": {
            "gridcolor": "white",
            "linecolor": "white",
            "ticks": ""
           }
          },
          "scene": {
           "xaxis": {
            "backgroundcolor": "#E5ECF6",
            "gridcolor": "white",
            "gridwidth": 2,
            "linecolor": "white",
            "showbackground": true,
            "ticks": "",
            "zerolinecolor": "white"
           },
           "yaxis": {
            "backgroundcolor": "#E5ECF6",
            "gridcolor": "white",
            "gridwidth": 2,
            "linecolor": "white",
            "showbackground": true,
            "ticks": "",
            "zerolinecolor": "white"
           },
           "zaxis": {
            "backgroundcolor": "#E5ECF6",
            "gridcolor": "white",
            "gridwidth": 2,
            "linecolor": "white",
            "showbackground": true,
            "ticks": "",
            "zerolinecolor": "white"
           }
          },
          "shapedefaults": {
           "line": {
            "color": "#2a3f5f"
           }
          },
          "ternary": {
           "aaxis": {
            "gridcolor": "white",
            "linecolor": "white",
            "ticks": ""
           },
           "baxis": {
            "gridcolor": "white",
            "linecolor": "white",
            "ticks": ""
           },
           "bgcolor": "#E5ECF6",
           "caxis": {
            "gridcolor": "white",
            "linecolor": "white",
            "ticks": ""
           }
          },
          "title": {
           "x": 0.05
          },
          "xaxis": {
           "automargin": true,
           "gridcolor": "white",
           "linecolor": "white",
           "ticks": "",
           "title": {
            "standoff": 15
           },
           "zerolinecolor": "white",
           "zerolinewidth": 2
          },
          "yaxis": {
           "automargin": true,
           "gridcolor": "white",
           "linecolor": "white",
           "ticks": "",
           "title": {
            "standoff": 15
           },
           "zerolinecolor": "white",
           "zerolinewidth": 2
          }
         }
        },
        "title": {
         "text": "Rank Sucessful Ops"
        }
       }
      }
     },
     "metadata": {},
     "output_type": "display_data"
    }
   ],
   "source": [
    "# Ponderacion operaciones ganadoras, MAOC\n",
    "vs.plot_pie_graph(dt.df_2_tabla_m)"
   ]
  },
  {
   "cell_type": "markdown",
   "metadata": {},
   "source": [
    "En estos graficos se presenta a primera instancia la diversidad de operaciones entre los integrantes del equipo, y como la mayor podenracion de aquellos con mayor diversidad se encuentra en el 30%, donde dicho intrumento obtuvo el 100% de efectividad en sus inversiones. Por otro lado, el miembro restante tiene un reparto mas igualitario entre sus instrumentos efectivos. "
   ]
  },
  {
   "cell_type": "markdown",
   "metadata": {},
   "source": [
    "## 5.2 Visualizacion del Draw Up y Draw Down"
   ]
  },
  {
   "cell_type": "markdown",
   "metadata": {},
   "source": [
    "En este parte, se tienen dos conceptos, el Draw Up y Draw Down, los cuales hacen referencia a los puntos maximos y minimos por los cuales paso el estado del capital a lo largo del periodo en el que se implementaron las operaciones. Dichos conceptos ayudan a entender la dispersion del capital en un rango de tiempo, asi como las posibles ganancias o perdidas potenciales experimentadas. Cada metodologia de inversion trajo consigo distintos puntos maximos y minimos de capital, incluso en diferncia con el capital inicial. \n",
    "\n",
    "Como nota, se ha de decir que el intervalo en el cual se instauraron los puntos o rangos, segun su caso, de DrawDown y DrawUp es **diario**. "
   ]
  },
  {
   "cell_type": "code",
   "execution_count": 27,
   "metadata": {},
   "outputs": [],
   "source": [
    "import main as mn"
   ]
  },
  {
   "cell_type": "code",
   "execution_count": 28,
   "metadata": {},
   "outputs": [
    {
     "data": {
      "application/vnd.plotly.v1+json": {
       "config": {
        "plotlyServerURL": "https://plot.ly"
       },
       "data": [
        {
         "line": {
          "color": "black",
          "width": 4
         },
         "name": "Capital",
         "type": "scatter",
         "x": [
          "2022-09-15",
          "2022-09-16",
          "2022-09-17",
          "2022-09-18",
          "2022-09-19",
          "2022-09-20",
          "2022-09-21",
          "2022-09-22",
          "2022-09-23"
         ],
         "y": [
          99997.05,
          99994.53,
          99994.53,
          99994.53,
          100026.67,
          99846.27,
          99846.76000000001,
          99804.26000000001,
          99805.56000000001
         ]
        },
        {
         "marker": {
          "color": "chartreuse",
          "size": 15
         },
         "name": "Drawn Up",
         "type": "scatter",
         "x": [
          "2022-09-15",
          "2022-09-16",
          "2022-09-17",
          "2022-09-18",
          "2022-09-19",
          "2022-09-20",
          "2022-09-21",
          "2022-09-22",
          "2022-09-23"
         ],
         "y": [
          null,
          null,
          null,
          null,
          100026.67,
          null,
          null,
          null,
          null
         ]
        },
        {
         "marker": {
          "color": "red",
          "size": 15
         },
         "name": "Drawn Down",
         "type": "scatter",
         "x": [
          "2022-09-15",
          "2022-09-16",
          "2022-09-17",
          "2022-09-18",
          "2022-09-19",
          "2022-09-20",
          "2022-09-21",
          "2022-09-22",
          "2022-09-23"
         ],
         "y": [
          null,
          null,
          null,
          null,
          null,
          null,
          null,
          99804.26000000001,
          null
         ]
        }
       ],
       "layout": {
        "font": {
         "color": "black",
         "size": 15
        },
        "template": {
         "data": {
          "bar": [
           {
            "error_x": {
             "color": "#2a3f5f"
            },
            "error_y": {
             "color": "#2a3f5f"
            },
            "marker": {
             "line": {
              "color": "#E5ECF6",
              "width": 0.5
             },
             "pattern": {
              "fillmode": "overlay",
              "size": 10,
              "solidity": 0.2
             }
            },
            "type": "bar"
           }
          ],
          "barpolar": [
           {
            "marker": {
             "line": {
              "color": "#E5ECF6",
              "width": 0.5
             },
             "pattern": {
              "fillmode": "overlay",
              "size": 10,
              "solidity": 0.2
             }
            },
            "type": "barpolar"
           }
          ],
          "carpet": [
           {
            "aaxis": {
             "endlinecolor": "#2a3f5f",
             "gridcolor": "white",
             "linecolor": "white",
             "minorgridcolor": "white",
             "startlinecolor": "#2a3f5f"
            },
            "baxis": {
             "endlinecolor": "#2a3f5f",
             "gridcolor": "white",
             "linecolor": "white",
             "minorgridcolor": "white",
             "startlinecolor": "#2a3f5f"
            },
            "type": "carpet"
           }
          ],
          "choropleth": [
           {
            "colorbar": {
             "outlinewidth": 0,
             "ticks": ""
            },
            "type": "choropleth"
           }
          ],
          "contour": [
           {
            "colorbar": {
             "outlinewidth": 0,
             "ticks": ""
            },
            "colorscale": [
             [
              0,
              "#0d0887"
             ],
             [
              0.1111111111111111,
              "#46039f"
             ],
             [
              0.2222222222222222,
              "#7201a8"
             ],
             [
              0.3333333333333333,
              "#9c179e"
             ],
             [
              0.4444444444444444,
              "#bd3786"
             ],
             [
              0.5555555555555556,
              "#d8576b"
             ],
             [
              0.6666666666666666,
              "#ed7953"
             ],
             [
              0.7777777777777778,
              "#fb9f3a"
             ],
             [
              0.8888888888888888,
              "#fdca26"
             ],
             [
              1,
              "#f0f921"
             ]
            ],
            "type": "contour"
           }
          ],
          "contourcarpet": [
           {
            "colorbar": {
             "outlinewidth": 0,
             "ticks": ""
            },
            "type": "contourcarpet"
           }
          ],
          "heatmap": [
           {
            "colorbar": {
             "outlinewidth": 0,
             "ticks": ""
            },
            "colorscale": [
             [
              0,
              "#0d0887"
             ],
             [
              0.1111111111111111,
              "#46039f"
             ],
             [
              0.2222222222222222,
              "#7201a8"
             ],
             [
              0.3333333333333333,
              "#9c179e"
             ],
             [
              0.4444444444444444,
              "#bd3786"
             ],
             [
              0.5555555555555556,
              "#d8576b"
             ],
             [
              0.6666666666666666,
              "#ed7953"
             ],
             [
              0.7777777777777778,
              "#fb9f3a"
             ],
             [
              0.8888888888888888,
              "#fdca26"
             ],
             [
              1,
              "#f0f921"
             ]
            ],
            "type": "heatmap"
           }
          ],
          "heatmapgl": [
           {
            "colorbar": {
             "outlinewidth": 0,
             "ticks": ""
            },
            "colorscale": [
             [
              0,
              "#0d0887"
             ],
             [
              0.1111111111111111,
              "#46039f"
             ],
             [
              0.2222222222222222,
              "#7201a8"
             ],
             [
              0.3333333333333333,
              "#9c179e"
             ],
             [
              0.4444444444444444,
              "#bd3786"
             ],
             [
              0.5555555555555556,
              "#d8576b"
             ],
             [
              0.6666666666666666,
              "#ed7953"
             ],
             [
              0.7777777777777778,
              "#fb9f3a"
             ],
             [
              0.8888888888888888,
              "#fdca26"
             ],
             [
              1,
              "#f0f921"
             ]
            ],
            "type": "heatmapgl"
           }
          ],
          "histogram": [
           {
            "marker": {
             "pattern": {
              "fillmode": "overlay",
              "size": 10,
              "solidity": 0.2
             }
            },
            "type": "histogram"
           }
          ],
          "histogram2d": [
           {
            "colorbar": {
             "outlinewidth": 0,
             "ticks": ""
            },
            "colorscale": [
             [
              0,
              "#0d0887"
             ],
             [
              0.1111111111111111,
              "#46039f"
             ],
             [
              0.2222222222222222,
              "#7201a8"
             ],
             [
              0.3333333333333333,
              "#9c179e"
             ],
             [
              0.4444444444444444,
              "#bd3786"
             ],
             [
              0.5555555555555556,
              "#d8576b"
             ],
             [
              0.6666666666666666,
              "#ed7953"
             ],
             [
              0.7777777777777778,
              "#fb9f3a"
             ],
             [
              0.8888888888888888,
              "#fdca26"
             ],
             [
              1,
              "#f0f921"
             ]
            ],
            "type": "histogram2d"
           }
          ],
          "histogram2dcontour": [
           {
            "colorbar": {
             "outlinewidth": 0,
             "ticks": ""
            },
            "colorscale": [
             [
              0,
              "#0d0887"
             ],
             [
              0.1111111111111111,
              "#46039f"
             ],
             [
              0.2222222222222222,
              "#7201a8"
             ],
             [
              0.3333333333333333,
              "#9c179e"
             ],
             [
              0.4444444444444444,
              "#bd3786"
             ],
             [
              0.5555555555555556,
              "#d8576b"
             ],
             [
              0.6666666666666666,
              "#ed7953"
             ],
             [
              0.7777777777777778,
              "#fb9f3a"
             ],
             [
              0.8888888888888888,
              "#fdca26"
             ],
             [
              1,
              "#f0f921"
             ]
            ],
            "type": "histogram2dcontour"
           }
          ],
          "mesh3d": [
           {
            "colorbar": {
             "outlinewidth": 0,
             "ticks": ""
            },
            "type": "mesh3d"
           }
          ],
          "parcoords": [
           {
            "line": {
             "colorbar": {
              "outlinewidth": 0,
              "ticks": ""
             }
            },
            "type": "parcoords"
           }
          ],
          "pie": [
           {
            "automargin": true,
            "type": "pie"
           }
          ],
          "scatter": [
           {
            "fillpattern": {
             "fillmode": "overlay",
             "size": 10,
             "solidity": 0.2
            },
            "type": "scatter"
           }
          ],
          "scatter3d": [
           {
            "line": {
             "colorbar": {
              "outlinewidth": 0,
              "ticks": ""
             }
            },
            "marker": {
             "colorbar": {
              "outlinewidth": 0,
              "ticks": ""
             }
            },
            "type": "scatter3d"
           }
          ],
          "scattercarpet": [
           {
            "marker": {
             "colorbar": {
              "outlinewidth": 0,
              "ticks": ""
             }
            },
            "type": "scattercarpet"
           }
          ],
          "scattergeo": [
           {
            "marker": {
             "colorbar": {
              "outlinewidth": 0,
              "ticks": ""
             }
            },
            "type": "scattergeo"
           }
          ],
          "scattergl": [
           {
            "marker": {
             "colorbar": {
              "outlinewidth": 0,
              "ticks": ""
             }
            },
            "type": "scattergl"
           }
          ],
          "scattermapbox": [
           {
            "marker": {
             "colorbar": {
              "outlinewidth": 0,
              "ticks": ""
             }
            },
            "type": "scattermapbox"
           }
          ],
          "scatterpolar": [
           {
            "marker": {
             "colorbar": {
              "outlinewidth": 0,
              "ticks": ""
             }
            },
            "type": "scatterpolar"
           }
          ],
          "scatterpolargl": [
           {
            "marker": {
             "colorbar": {
              "outlinewidth": 0,
              "ticks": ""
             }
            },
            "type": "scatterpolargl"
           }
          ],
          "scatterternary": [
           {
            "marker": {
             "colorbar": {
              "outlinewidth": 0,
              "ticks": ""
             }
            },
            "type": "scatterternary"
           }
          ],
          "surface": [
           {
            "colorbar": {
             "outlinewidth": 0,
             "ticks": ""
            },
            "colorscale": [
             [
              0,
              "#0d0887"
             ],
             [
              0.1111111111111111,
              "#46039f"
             ],
             [
              0.2222222222222222,
              "#7201a8"
             ],
             [
              0.3333333333333333,
              "#9c179e"
             ],
             [
              0.4444444444444444,
              "#bd3786"
             ],
             [
              0.5555555555555556,
              "#d8576b"
             ],
             [
              0.6666666666666666,
              "#ed7953"
             ],
             [
              0.7777777777777778,
              "#fb9f3a"
             ],
             [
              0.8888888888888888,
              "#fdca26"
             ],
             [
              1,
              "#f0f921"
             ]
            ],
            "type": "surface"
           }
          ],
          "table": [
           {
            "cells": {
             "fill": {
              "color": "#EBF0F8"
             },
             "line": {
              "color": "white"
             }
            },
            "header": {
             "fill": {
              "color": "#C8D4E3"
             },
             "line": {
              "color": "white"
             }
            },
            "type": "table"
           }
          ]
         },
         "layout": {
          "annotationdefaults": {
           "arrowcolor": "#2a3f5f",
           "arrowhead": 0,
           "arrowwidth": 1
          },
          "autotypenumbers": "strict",
          "coloraxis": {
           "colorbar": {
            "outlinewidth": 0,
            "ticks": ""
           }
          },
          "colorscale": {
           "diverging": [
            [
             0,
             "#8e0152"
            ],
            [
             0.1,
             "#c51b7d"
            ],
            [
             0.2,
             "#de77ae"
            ],
            [
             0.3,
             "#f1b6da"
            ],
            [
             0.4,
             "#fde0ef"
            ],
            [
             0.5,
             "#f7f7f7"
            ],
            [
             0.6,
             "#e6f5d0"
            ],
            [
             0.7,
             "#b8e186"
            ],
            [
             0.8,
             "#7fbc41"
            ],
            [
             0.9,
             "#4d9221"
            ],
            [
             1,
             "#276419"
            ]
           ],
           "sequential": [
            [
             0,
             "#0d0887"
            ],
            [
             0.1111111111111111,
             "#46039f"
            ],
            [
             0.2222222222222222,
             "#7201a8"
            ],
            [
             0.3333333333333333,
             "#9c179e"
            ],
            [
             0.4444444444444444,
             "#bd3786"
            ],
            [
             0.5555555555555556,
             "#d8576b"
            ],
            [
             0.6666666666666666,
             "#ed7953"
            ],
            [
             0.7777777777777778,
             "#fb9f3a"
            ],
            [
             0.8888888888888888,
             "#fdca26"
            ],
            [
             1,
             "#f0f921"
            ]
           ],
           "sequentialminus": [
            [
             0,
             "#0d0887"
            ],
            [
             0.1111111111111111,
             "#46039f"
            ],
            [
             0.2222222222222222,
             "#7201a8"
            ],
            [
             0.3333333333333333,
             "#9c179e"
            ],
            [
             0.4444444444444444,
             "#bd3786"
            ],
            [
             0.5555555555555556,
             "#d8576b"
            ],
            [
             0.6666666666666666,
             "#ed7953"
            ],
            [
             0.7777777777777778,
             "#fb9f3a"
            ],
            [
             0.8888888888888888,
             "#fdca26"
            ],
            [
             1,
             "#f0f921"
            ]
           ]
          },
          "colorway": [
           "#636efa",
           "#EF553B",
           "#00cc96",
           "#ab63fa",
           "#FFA15A",
           "#19d3f3",
           "#FF6692",
           "#B6E880",
           "#FF97FF",
           "#FECB52"
          ],
          "font": {
           "color": "#2a3f5f"
          },
          "geo": {
           "bgcolor": "white",
           "lakecolor": "white",
           "landcolor": "#E5ECF6",
           "showlakes": true,
           "showland": true,
           "subunitcolor": "white"
          },
          "hoverlabel": {
           "align": "left"
          },
          "hovermode": "closest",
          "mapbox": {
           "style": "light"
          },
          "paper_bgcolor": "white",
          "plot_bgcolor": "#E5ECF6",
          "polar": {
           "angularaxis": {
            "gridcolor": "white",
            "linecolor": "white",
            "ticks": ""
           },
           "bgcolor": "#E5ECF6",
           "radialaxis": {
            "gridcolor": "white",
            "linecolor": "white",
            "ticks": ""
           }
          },
          "scene": {
           "xaxis": {
            "backgroundcolor": "#E5ECF6",
            "gridcolor": "white",
            "gridwidth": 2,
            "linecolor": "white",
            "showbackground": true,
            "ticks": "",
            "zerolinecolor": "white"
           },
           "yaxis": {
            "backgroundcolor": "#E5ECF6",
            "gridcolor": "white",
            "gridwidth": 2,
            "linecolor": "white",
            "showbackground": true,
            "ticks": "",
            "zerolinecolor": "white"
           },
           "zaxis": {
            "backgroundcolor": "#E5ECF6",
            "gridcolor": "white",
            "gridwidth": 2,
            "linecolor": "white",
            "showbackground": true,
            "ticks": "",
            "zerolinecolor": "white"
           }
          },
          "shapedefaults": {
           "line": {
            "color": "#2a3f5f"
           }
          },
          "ternary": {
           "aaxis": {
            "gridcolor": "white",
            "linecolor": "white",
            "ticks": ""
           },
           "baxis": {
            "gridcolor": "white",
            "linecolor": "white",
            "ticks": ""
           },
           "bgcolor": "#E5ECF6",
           "caxis": {
            "gridcolor": "white",
            "linecolor": "white",
            "ticks": ""
           }
          },
          "title": {
           "x": 0.05
          },
          "xaxis": {
           "automargin": true,
           "gridcolor": "white",
           "linecolor": "white",
           "ticks": "",
           "title": {
            "standoff": 15
           },
           "zerolinecolor": "white",
           "zerolinewidth": 2
          },
          "yaxis": {
           "automargin": true,
           "gridcolor": "white",
           "linecolor": "white",
           "ticks": "",
           "title": {
            "standoff": 15
           },
           "zerolinecolor": "white",
           "zerolinewidth": 2
          }
         }
        },
        "title": {
         "text": "Capital Evolution"
        },
        "xaxis": {
         "title": {
          "text": "Date"
         }
        },
        "yaxis": {
         "title": {
          "text": "Capital"
         }
        }
       }
      }
     },
     "metadata": {},
     "output_type": "display_data"
    }
   ],
   "source": [
    "# Grafica evolucion de capital, CCC\n",
    "vs.plot_DDC_DUC(dt.evo_c_c)"
   ]
  },
  {
   "cell_type": "code",
   "execution_count": 24,
   "metadata": {},
   "outputs": [
    {
     "data": {
      "application/vnd.plotly.v1+json": {
       "config": {
        "plotlyServerURL": "https://plot.ly"
       },
       "data": [
        {
         "line": {
          "color": "black",
          "width": 4
         },
         "name": "Capital",
         "type": "scatter",
         "x": [
          "2022-09-16",
          "2022-09-17",
          "2022-09-18",
          "2022-09-19",
          "2022-09-20",
          "2022-09-21",
          "2022-09-22",
          "2022-09-23"
         ],
         "y": [
          100057.63,
          100057.63,
          100057.63,
          100392.19,
          100392.19,
          100303.33,
          100303.33,
          100317.15000000001
         ]
        },
        {
         "marker": {
          "color": "chartreuse",
          "size": 15
         },
         "name": "Drawn Up",
         "type": "scatter",
         "x": [
          "2022-09-16",
          "2022-09-17",
          "2022-09-18",
          "2022-09-19",
          "2022-09-20",
          "2022-09-21",
          "2022-09-22",
          "2022-09-23"
         ],
         "y": [
          null,
          null,
          null,
          100392.19,
          100392.19,
          null,
          null,
          null
         ]
        },
        {
         "marker": {
          "color": "red",
          "size": 15
         },
         "name": "Drawn Down",
         "type": "scatter",
         "x": [
          "2022-09-16",
          "2022-09-17",
          "2022-09-18",
          "2022-09-19",
          "2022-09-20",
          "2022-09-21",
          "2022-09-22",
          "2022-09-23"
         ],
         "y": [
          100057.63,
          100057.63,
          100057.63,
          null,
          null,
          null,
          null,
          null
         ]
        }
       ],
       "layout": {
        "font": {
         "color": "black",
         "size": 15
        },
        "template": {
         "data": {
          "bar": [
           {
            "error_x": {
             "color": "#2a3f5f"
            },
            "error_y": {
             "color": "#2a3f5f"
            },
            "marker": {
             "line": {
              "color": "#E5ECF6",
              "width": 0.5
             },
             "pattern": {
              "fillmode": "overlay",
              "size": 10,
              "solidity": 0.2
             }
            },
            "type": "bar"
           }
          ],
          "barpolar": [
           {
            "marker": {
             "line": {
              "color": "#E5ECF6",
              "width": 0.5
             },
             "pattern": {
              "fillmode": "overlay",
              "size": 10,
              "solidity": 0.2
             }
            },
            "type": "barpolar"
           }
          ],
          "carpet": [
           {
            "aaxis": {
             "endlinecolor": "#2a3f5f",
             "gridcolor": "white",
             "linecolor": "white",
             "minorgridcolor": "white",
             "startlinecolor": "#2a3f5f"
            },
            "baxis": {
             "endlinecolor": "#2a3f5f",
             "gridcolor": "white",
             "linecolor": "white",
             "minorgridcolor": "white",
             "startlinecolor": "#2a3f5f"
            },
            "type": "carpet"
           }
          ],
          "choropleth": [
           {
            "colorbar": {
             "outlinewidth": 0,
             "ticks": ""
            },
            "type": "choropleth"
           }
          ],
          "contour": [
           {
            "colorbar": {
             "outlinewidth": 0,
             "ticks": ""
            },
            "colorscale": [
             [
              0,
              "#0d0887"
             ],
             [
              0.1111111111111111,
              "#46039f"
             ],
             [
              0.2222222222222222,
              "#7201a8"
             ],
             [
              0.3333333333333333,
              "#9c179e"
             ],
             [
              0.4444444444444444,
              "#bd3786"
             ],
             [
              0.5555555555555556,
              "#d8576b"
             ],
             [
              0.6666666666666666,
              "#ed7953"
             ],
             [
              0.7777777777777778,
              "#fb9f3a"
             ],
             [
              0.8888888888888888,
              "#fdca26"
             ],
             [
              1,
              "#f0f921"
             ]
            ],
            "type": "contour"
           }
          ],
          "contourcarpet": [
           {
            "colorbar": {
             "outlinewidth": 0,
             "ticks": ""
            },
            "type": "contourcarpet"
           }
          ],
          "heatmap": [
           {
            "colorbar": {
             "outlinewidth": 0,
             "ticks": ""
            },
            "colorscale": [
             [
              0,
              "#0d0887"
             ],
             [
              0.1111111111111111,
              "#46039f"
             ],
             [
              0.2222222222222222,
              "#7201a8"
             ],
             [
              0.3333333333333333,
              "#9c179e"
             ],
             [
              0.4444444444444444,
              "#bd3786"
             ],
             [
              0.5555555555555556,
              "#d8576b"
             ],
             [
              0.6666666666666666,
              "#ed7953"
             ],
             [
              0.7777777777777778,
              "#fb9f3a"
             ],
             [
              0.8888888888888888,
              "#fdca26"
             ],
             [
              1,
              "#f0f921"
             ]
            ],
            "type": "heatmap"
           }
          ],
          "heatmapgl": [
           {
            "colorbar": {
             "outlinewidth": 0,
             "ticks": ""
            },
            "colorscale": [
             [
              0,
              "#0d0887"
             ],
             [
              0.1111111111111111,
              "#46039f"
             ],
             [
              0.2222222222222222,
              "#7201a8"
             ],
             [
              0.3333333333333333,
              "#9c179e"
             ],
             [
              0.4444444444444444,
              "#bd3786"
             ],
             [
              0.5555555555555556,
              "#d8576b"
             ],
             [
              0.6666666666666666,
              "#ed7953"
             ],
             [
              0.7777777777777778,
              "#fb9f3a"
             ],
             [
              0.8888888888888888,
              "#fdca26"
             ],
             [
              1,
              "#f0f921"
             ]
            ],
            "type": "heatmapgl"
           }
          ],
          "histogram": [
           {
            "marker": {
             "pattern": {
              "fillmode": "overlay",
              "size": 10,
              "solidity": 0.2
             }
            },
            "type": "histogram"
           }
          ],
          "histogram2d": [
           {
            "colorbar": {
             "outlinewidth": 0,
             "ticks": ""
            },
            "colorscale": [
             [
              0,
              "#0d0887"
             ],
             [
              0.1111111111111111,
              "#46039f"
             ],
             [
              0.2222222222222222,
              "#7201a8"
             ],
             [
              0.3333333333333333,
              "#9c179e"
             ],
             [
              0.4444444444444444,
              "#bd3786"
             ],
             [
              0.5555555555555556,
              "#d8576b"
             ],
             [
              0.6666666666666666,
              "#ed7953"
             ],
             [
              0.7777777777777778,
              "#fb9f3a"
             ],
             [
              0.8888888888888888,
              "#fdca26"
             ],
             [
              1,
              "#f0f921"
             ]
            ],
            "type": "histogram2d"
           }
          ],
          "histogram2dcontour": [
           {
            "colorbar": {
             "outlinewidth": 0,
             "ticks": ""
            },
            "colorscale": [
             [
              0,
              "#0d0887"
             ],
             [
              0.1111111111111111,
              "#46039f"
             ],
             [
              0.2222222222222222,
              "#7201a8"
             ],
             [
              0.3333333333333333,
              "#9c179e"
             ],
             [
              0.4444444444444444,
              "#bd3786"
             ],
             [
              0.5555555555555556,
              "#d8576b"
             ],
             [
              0.6666666666666666,
              "#ed7953"
             ],
             [
              0.7777777777777778,
              "#fb9f3a"
             ],
             [
              0.8888888888888888,
              "#fdca26"
             ],
             [
              1,
              "#f0f921"
             ]
            ],
            "type": "histogram2dcontour"
           }
          ],
          "mesh3d": [
           {
            "colorbar": {
             "outlinewidth": 0,
             "ticks": ""
            },
            "type": "mesh3d"
           }
          ],
          "parcoords": [
           {
            "line": {
             "colorbar": {
              "outlinewidth": 0,
              "ticks": ""
             }
            },
            "type": "parcoords"
           }
          ],
          "pie": [
           {
            "automargin": true,
            "type": "pie"
           }
          ],
          "scatter": [
           {
            "fillpattern": {
             "fillmode": "overlay",
             "size": 10,
             "solidity": 0.2
            },
            "type": "scatter"
           }
          ],
          "scatter3d": [
           {
            "line": {
             "colorbar": {
              "outlinewidth": 0,
              "ticks": ""
             }
            },
            "marker": {
             "colorbar": {
              "outlinewidth": 0,
              "ticks": ""
             }
            },
            "type": "scatter3d"
           }
          ],
          "scattercarpet": [
           {
            "marker": {
             "colorbar": {
              "outlinewidth": 0,
              "ticks": ""
             }
            },
            "type": "scattercarpet"
           }
          ],
          "scattergeo": [
           {
            "marker": {
             "colorbar": {
              "outlinewidth": 0,
              "ticks": ""
             }
            },
            "type": "scattergeo"
           }
          ],
          "scattergl": [
           {
            "marker": {
             "colorbar": {
              "outlinewidth": 0,
              "ticks": ""
             }
            },
            "type": "scattergl"
           }
          ],
          "scattermapbox": [
           {
            "marker": {
             "colorbar": {
              "outlinewidth": 0,
              "ticks": ""
             }
            },
            "type": "scattermapbox"
           }
          ],
          "scatterpolar": [
           {
            "marker": {
             "colorbar": {
              "outlinewidth": 0,
              "ticks": ""
             }
            },
            "type": "scatterpolar"
           }
          ],
          "scatterpolargl": [
           {
            "marker": {
             "colorbar": {
              "outlinewidth": 0,
              "ticks": ""
             }
            },
            "type": "scatterpolargl"
           }
          ],
          "scatterternary": [
           {
            "marker": {
             "colorbar": {
              "outlinewidth": 0,
              "ticks": ""
             }
            },
            "type": "scatterternary"
           }
          ],
          "surface": [
           {
            "colorbar": {
             "outlinewidth": 0,
             "ticks": ""
            },
            "colorscale": [
             [
              0,
              "#0d0887"
             ],
             [
              0.1111111111111111,
              "#46039f"
             ],
             [
              0.2222222222222222,
              "#7201a8"
             ],
             [
              0.3333333333333333,
              "#9c179e"
             ],
             [
              0.4444444444444444,
              "#bd3786"
             ],
             [
              0.5555555555555556,
              "#d8576b"
             ],
             [
              0.6666666666666666,
              "#ed7953"
             ],
             [
              0.7777777777777778,
              "#fb9f3a"
             ],
             [
              0.8888888888888888,
              "#fdca26"
             ],
             [
              1,
              "#f0f921"
             ]
            ],
            "type": "surface"
           }
          ],
          "table": [
           {
            "cells": {
             "fill": {
              "color": "#EBF0F8"
             },
             "line": {
              "color": "white"
             }
            },
            "header": {
             "fill": {
              "color": "#C8D4E3"
             },
             "line": {
              "color": "white"
             }
            },
            "type": "table"
           }
          ]
         },
         "layout": {
          "annotationdefaults": {
           "arrowcolor": "#2a3f5f",
           "arrowhead": 0,
           "arrowwidth": 1
          },
          "autotypenumbers": "strict",
          "coloraxis": {
           "colorbar": {
            "outlinewidth": 0,
            "ticks": ""
           }
          },
          "colorscale": {
           "diverging": [
            [
             0,
             "#8e0152"
            ],
            [
             0.1,
             "#c51b7d"
            ],
            [
             0.2,
             "#de77ae"
            ],
            [
             0.3,
             "#f1b6da"
            ],
            [
             0.4,
             "#fde0ef"
            ],
            [
             0.5,
             "#f7f7f7"
            ],
            [
             0.6,
             "#e6f5d0"
            ],
            [
             0.7,
             "#b8e186"
            ],
            [
             0.8,
             "#7fbc41"
            ],
            [
             0.9,
             "#4d9221"
            ],
            [
             1,
             "#276419"
            ]
           ],
           "sequential": [
            [
             0,
             "#0d0887"
            ],
            [
             0.1111111111111111,
             "#46039f"
            ],
            [
             0.2222222222222222,
             "#7201a8"
            ],
            [
             0.3333333333333333,
             "#9c179e"
            ],
            [
             0.4444444444444444,
             "#bd3786"
            ],
            [
             0.5555555555555556,
             "#d8576b"
            ],
            [
             0.6666666666666666,
             "#ed7953"
            ],
            [
             0.7777777777777778,
             "#fb9f3a"
            ],
            [
             0.8888888888888888,
             "#fdca26"
            ],
            [
             1,
             "#f0f921"
            ]
           ],
           "sequentialminus": [
            [
             0,
             "#0d0887"
            ],
            [
             0.1111111111111111,
             "#46039f"
            ],
            [
             0.2222222222222222,
             "#7201a8"
            ],
            [
             0.3333333333333333,
             "#9c179e"
            ],
            [
             0.4444444444444444,
             "#bd3786"
            ],
            [
             0.5555555555555556,
             "#d8576b"
            ],
            [
             0.6666666666666666,
             "#ed7953"
            ],
            [
             0.7777777777777778,
             "#fb9f3a"
            ],
            [
             0.8888888888888888,
             "#fdca26"
            ],
            [
             1,
             "#f0f921"
            ]
           ]
          },
          "colorway": [
           "#636efa",
           "#EF553B",
           "#00cc96",
           "#ab63fa",
           "#FFA15A",
           "#19d3f3",
           "#FF6692",
           "#B6E880",
           "#FF97FF",
           "#FECB52"
          ],
          "font": {
           "color": "#2a3f5f"
          },
          "geo": {
           "bgcolor": "white",
           "lakecolor": "white",
           "landcolor": "#E5ECF6",
           "showlakes": true,
           "showland": true,
           "subunitcolor": "white"
          },
          "hoverlabel": {
           "align": "left"
          },
          "hovermode": "closest",
          "mapbox": {
           "style": "light"
          },
          "paper_bgcolor": "white",
          "plot_bgcolor": "#E5ECF6",
          "polar": {
           "angularaxis": {
            "gridcolor": "white",
            "linecolor": "white",
            "ticks": ""
           },
           "bgcolor": "#E5ECF6",
           "radialaxis": {
            "gridcolor": "white",
            "linecolor": "white",
            "ticks": ""
           }
          },
          "scene": {
           "xaxis": {
            "backgroundcolor": "#E5ECF6",
            "gridcolor": "white",
            "gridwidth": 2,
            "linecolor": "white",
            "showbackground": true,
            "ticks": "",
            "zerolinecolor": "white"
           },
           "yaxis": {
            "backgroundcolor": "#E5ECF6",
            "gridcolor": "white",
            "gridwidth": 2,
            "linecolor": "white",
            "showbackground": true,
            "ticks": "",
            "zerolinecolor": "white"
           },
           "zaxis": {
            "backgroundcolor": "#E5ECF6",
            "gridcolor": "white",
            "gridwidth": 2,
            "linecolor": "white",
            "showbackground": true,
            "ticks": "",
            "zerolinecolor": "white"
           }
          },
          "shapedefaults": {
           "line": {
            "color": "#2a3f5f"
           }
          },
          "ternary": {
           "aaxis": {
            "gridcolor": "white",
            "linecolor": "white",
            "ticks": ""
           },
           "baxis": {
            "gridcolor": "white",
            "linecolor": "white",
            "ticks": ""
           },
           "bgcolor": "#E5ECF6",
           "caxis": {
            "gridcolor": "white",
            "linecolor": "white",
            "ticks": ""
           }
          },
          "title": {
           "x": 0.05
          },
          "xaxis": {
           "automargin": true,
           "gridcolor": "white",
           "linecolor": "white",
           "ticks": "",
           "title": {
            "standoff": 15
           },
           "zerolinecolor": "white",
           "zerolinewidth": 2
          },
          "yaxis": {
           "automargin": true,
           "gridcolor": "white",
           "linecolor": "white",
           "ticks": "",
           "title": {
            "standoff": 15
           },
           "zerolinecolor": "white",
           "zerolinewidth": 2
          }
         }
        },
        "title": {
         "text": "Capital Evolution"
        },
        "xaxis": {
         "title": {
          "text": "Date"
         }
        },
        "yaxis": {
         "title": {
          "text": "Capital"
         }
        }
       }
      }
     },
     "metadata": {},
     "output_type": "display_data"
    }
   ],
   "source": [
    "# Grafica evolucion de capital, EMD\n",
    "vs.plot_DDC_DUC(dt.evo_c_e)"
   ]
  },
  {
   "cell_type": "code",
   "execution_count": 25,
   "metadata": {},
   "outputs": [
    {
     "data": {
      "application/vnd.plotly.v1+json": {
       "config": {
        "plotlyServerURL": "https://plot.ly"
       },
       "data": [
        {
         "line": {
          "color": "black",
          "width": 4
         },
         "name": "Capital",
         "type": "scatter",
         "x": [
          "2022-09-16",
          "2022-09-17",
          "2022-09-18",
          "2022-09-19",
          "2022-09-20",
          "2022-09-21",
          "2022-09-22",
          "2022-09-23",
          "2022-09-24",
          "2022-09-25",
          "2022-09-26"
         ],
         "y": [
          99942.4,
          99942.4,
          99942.4,
          99964.87,
          99081.14,
          98512.39,
          98514.55,
          100085.45,
          100085.45,
          100085.45,
          90786.55
         ]
        },
        {
         "marker": {
          "color": "chartreuse",
          "size": 15
         },
         "name": "Drawn Up",
         "type": "scatter",
         "x": [
          "2022-09-16",
          "2022-09-17",
          "2022-09-18",
          "2022-09-19",
          "2022-09-20",
          "2022-09-21",
          "2022-09-22",
          "2022-09-23",
          "2022-09-24",
          "2022-09-25",
          "2022-09-26"
         ],
         "y": [
          null,
          null,
          null,
          null,
          null,
          null,
          null,
          100085.45,
          100085.45,
          100085.45,
          null
         ]
        },
        {
         "marker": {
          "color": "red",
          "size": 15
         },
         "name": "Drawn Down",
         "type": "scatter",
         "x": [
          "2022-09-16",
          "2022-09-17",
          "2022-09-18",
          "2022-09-19",
          "2022-09-20",
          "2022-09-21",
          "2022-09-22",
          "2022-09-23",
          "2022-09-24",
          "2022-09-25",
          "2022-09-26"
         ],
         "y": [
          null,
          null,
          null,
          null,
          null,
          null,
          null,
          null,
          null,
          null,
          90786.55
         ]
        }
       ],
       "layout": {
        "font": {
         "color": "black",
         "size": 15
        },
        "template": {
         "data": {
          "bar": [
           {
            "error_x": {
             "color": "#2a3f5f"
            },
            "error_y": {
             "color": "#2a3f5f"
            },
            "marker": {
             "line": {
              "color": "#E5ECF6",
              "width": 0.5
             },
             "pattern": {
              "fillmode": "overlay",
              "size": 10,
              "solidity": 0.2
             }
            },
            "type": "bar"
           }
          ],
          "barpolar": [
           {
            "marker": {
             "line": {
              "color": "#E5ECF6",
              "width": 0.5
             },
             "pattern": {
              "fillmode": "overlay",
              "size": 10,
              "solidity": 0.2
             }
            },
            "type": "barpolar"
           }
          ],
          "carpet": [
           {
            "aaxis": {
             "endlinecolor": "#2a3f5f",
             "gridcolor": "white",
             "linecolor": "white",
             "minorgridcolor": "white",
             "startlinecolor": "#2a3f5f"
            },
            "baxis": {
             "endlinecolor": "#2a3f5f",
             "gridcolor": "white",
             "linecolor": "white",
             "minorgridcolor": "white",
             "startlinecolor": "#2a3f5f"
            },
            "type": "carpet"
           }
          ],
          "choropleth": [
           {
            "colorbar": {
             "outlinewidth": 0,
             "ticks": ""
            },
            "type": "choropleth"
           }
          ],
          "contour": [
           {
            "colorbar": {
             "outlinewidth": 0,
             "ticks": ""
            },
            "colorscale": [
             [
              0,
              "#0d0887"
             ],
             [
              0.1111111111111111,
              "#46039f"
             ],
             [
              0.2222222222222222,
              "#7201a8"
             ],
             [
              0.3333333333333333,
              "#9c179e"
             ],
             [
              0.4444444444444444,
              "#bd3786"
             ],
             [
              0.5555555555555556,
              "#d8576b"
             ],
             [
              0.6666666666666666,
              "#ed7953"
             ],
             [
              0.7777777777777778,
              "#fb9f3a"
             ],
             [
              0.8888888888888888,
              "#fdca26"
             ],
             [
              1,
              "#f0f921"
             ]
            ],
            "type": "contour"
           }
          ],
          "contourcarpet": [
           {
            "colorbar": {
             "outlinewidth": 0,
             "ticks": ""
            },
            "type": "contourcarpet"
           }
          ],
          "heatmap": [
           {
            "colorbar": {
             "outlinewidth": 0,
             "ticks": ""
            },
            "colorscale": [
             [
              0,
              "#0d0887"
             ],
             [
              0.1111111111111111,
              "#46039f"
             ],
             [
              0.2222222222222222,
              "#7201a8"
             ],
             [
              0.3333333333333333,
              "#9c179e"
             ],
             [
              0.4444444444444444,
              "#bd3786"
             ],
             [
              0.5555555555555556,
              "#d8576b"
             ],
             [
              0.6666666666666666,
              "#ed7953"
             ],
             [
              0.7777777777777778,
              "#fb9f3a"
             ],
             [
              0.8888888888888888,
              "#fdca26"
             ],
             [
              1,
              "#f0f921"
             ]
            ],
            "type": "heatmap"
           }
          ],
          "heatmapgl": [
           {
            "colorbar": {
             "outlinewidth": 0,
             "ticks": ""
            },
            "colorscale": [
             [
              0,
              "#0d0887"
             ],
             [
              0.1111111111111111,
              "#46039f"
             ],
             [
              0.2222222222222222,
              "#7201a8"
             ],
             [
              0.3333333333333333,
              "#9c179e"
             ],
             [
              0.4444444444444444,
              "#bd3786"
             ],
             [
              0.5555555555555556,
              "#d8576b"
             ],
             [
              0.6666666666666666,
              "#ed7953"
             ],
             [
              0.7777777777777778,
              "#fb9f3a"
             ],
             [
              0.8888888888888888,
              "#fdca26"
             ],
             [
              1,
              "#f0f921"
             ]
            ],
            "type": "heatmapgl"
           }
          ],
          "histogram": [
           {
            "marker": {
             "pattern": {
              "fillmode": "overlay",
              "size": 10,
              "solidity": 0.2
             }
            },
            "type": "histogram"
           }
          ],
          "histogram2d": [
           {
            "colorbar": {
             "outlinewidth": 0,
             "ticks": ""
            },
            "colorscale": [
             [
              0,
              "#0d0887"
             ],
             [
              0.1111111111111111,
              "#46039f"
             ],
             [
              0.2222222222222222,
              "#7201a8"
             ],
             [
              0.3333333333333333,
              "#9c179e"
             ],
             [
              0.4444444444444444,
              "#bd3786"
             ],
             [
              0.5555555555555556,
              "#d8576b"
             ],
             [
              0.6666666666666666,
              "#ed7953"
             ],
             [
              0.7777777777777778,
              "#fb9f3a"
             ],
             [
              0.8888888888888888,
              "#fdca26"
             ],
             [
              1,
              "#f0f921"
             ]
            ],
            "type": "histogram2d"
           }
          ],
          "histogram2dcontour": [
           {
            "colorbar": {
             "outlinewidth": 0,
             "ticks": ""
            },
            "colorscale": [
             [
              0,
              "#0d0887"
             ],
             [
              0.1111111111111111,
              "#46039f"
             ],
             [
              0.2222222222222222,
              "#7201a8"
             ],
             [
              0.3333333333333333,
              "#9c179e"
             ],
             [
              0.4444444444444444,
              "#bd3786"
             ],
             [
              0.5555555555555556,
              "#d8576b"
             ],
             [
              0.6666666666666666,
              "#ed7953"
             ],
             [
              0.7777777777777778,
              "#fb9f3a"
             ],
             [
              0.8888888888888888,
              "#fdca26"
             ],
             [
              1,
              "#f0f921"
             ]
            ],
            "type": "histogram2dcontour"
           }
          ],
          "mesh3d": [
           {
            "colorbar": {
             "outlinewidth": 0,
             "ticks": ""
            },
            "type": "mesh3d"
           }
          ],
          "parcoords": [
           {
            "line": {
             "colorbar": {
              "outlinewidth": 0,
              "ticks": ""
             }
            },
            "type": "parcoords"
           }
          ],
          "pie": [
           {
            "automargin": true,
            "type": "pie"
           }
          ],
          "scatter": [
           {
            "fillpattern": {
             "fillmode": "overlay",
             "size": 10,
             "solidity": 0.2
            },
            "type": "scatter"
           }
          ],
          "scatter3d": [
           {
            "line": {
             "colorbar": {
              "outlinewidth": 0,
              "ticks": ""
             }
            },
            "marker": {
             "colorbar": {
              "outlinewidth": 0,
              "ticks": ""
             }
            },
            "type": "scatter3d"
           }
          ],
          "scattercarpet": [
           {
            "marker": {
             "colorbar": {
              "outlinewidth": 0,
              "ticks": ""
             }
            },
            "type": "scattercarpet"
           }
          ],
          "scattergeo": [
           {
            "marker": {
             "colorbar": {
              "outlinewidth": 0,
              "ticks": ""
             }
            },
            "type": "scattergeo"
           }
          ],
          "scattergl": [
           {
            "marker": {
             "colorbar": {
              "outlinewidth": 0,
              "ticks": ""
             }
            },
            "type": "scattergl"
           }
          ],
          "scattermapbox": [
           {
            "marker": {
             "colorbar": {
              "outlinewidth": 0,
              "ticks": ""
             }
            },
            "type": "scattermapbox"
           }
          ],
          "scatterpolar": [
           {
            "marker": {
             "colorbar": {
              "outlinewidth": 0,
              "ticks": ""
             }
            },
            "type": "scatterpolar"
           }
          ],
          "scatterpolargl": [
           {
            "marker": {
             "colorbar": {
              "outlinewidth": 0,
              "ticks": ""
             }
            },
            "type": "scatterpolargl"
           }
          ],
          "scatterternary": [
           {
            "marker": {
             "colorbar": {
              "outlinewidth": 0,
              "ticks": ""
             }
            },
            "type": "scatterternary"
           }
          ],
          "surface": [
           {
            "colorbar": {
             "outlinewidth": 0,
             "ticks": ""
            },
            "colorscale": [
             [
              0,
              "#0d0887"
             ],
             [
              0.1111111111111111,
              "#46039f"
             ],
             [
              0.2222222222222222,
              "#7201a8"
             ],
             [
              0.3333333333333333,
              "#9c179e"
             ],
             [
              0.4444444444444444,
              "#bd3786"
             ],
             [
              0.5555555555555556,
              "#d8576b"
             ],
             [
              0.6666666666666666,
              "#ed7953"
             ],
             [
              0.7777777777777778,
              "#fb9f3a"
             ],
             [
              0.8888888888888888,
              "#fdca26"
             ],
             [
              1,
              "#f0f921"
             ]
            ],
            "type": "surface"
           }
          ],
          "table": [
           {
            "cells": {
             "fill": {
              "color": "#EBF0F8"
             },
             "line": {
              "color": "white"
             }
            },
            "header": {
             "fill": {
              "color": "#C8D4E3"
             },
             "line": {
              "color": "white"
             }
            },
            "type": "table"
           }
          ]
         },
         "layout": {
          "annotationdefaults": {
           "arrowcolor": "#2a3f5f",
           "arrowhead": 0,
           "arrowwidth": 1
          },
          "autotypenumbers": "strict",
          "coloraxis": {
           "colorbar": {
            "outlinewidth": 0,
            "ticks": ""
           }
          },
          "colorscale": {
           "diverging": [
            [
             0,
             "#8e0152"
            ],
            [
             0.1,
             "#c51b7d"
            ],
            [
             0.2,
             "#de77ae"
            ],
            [
             0.3,
             "#f1b6da"
            ],
            [
             0.4,
             "#fde0ef"
            ],
            [
             0.5,
             "#f7f7f7"
            ],
            [
             0.6,
             "#e6f5d0"
            ],
            [
             0.7,
             "#b8e186"
            ],
            [
             0.8,
             "#7fbc41"
            ],
            [
             0.9,
             "#4d9221"
            ],
            [
             1,
             "#276419"
            ]
           ],
           "sequential": [
            [
             0,
             "#0d0887"
            ],
            [
             0.1111111111111111,
             "#46039f"
            ],
            [
             0.2222222222222222,
             "#7201a8"
            ],
            [
             0.3333333333333333,
             "#9c179e"
            ],
            [
             0.4444444444444444,
             "#bd3786"
            ],
            [
             0.5555555555555556,
             "#d8576b"
            ],
            [
             0.6666666666666666,
             "#ed7953"
            ],
            [
             0.7777777777777778,
             "#fb9f3a"
            ],
            [
             0.8888888888888888,
             "#fdca26"
            ],
            [
             1,
             "#f0f921"
            ]
           ],
           "sequentialminus": [
            [
             0,
             "#0d0887"
            ],
            [
             0.1111111111111111,
             "#46039f"
            ],
            [
             0.2222222222222222,
             "#7201a8"
            ],
            [
             0.3333333333333333,
             "#9c179e"
            ],
            [
             0.4444444444444444,
             "#bd3786"
            ],
            [
             0.5555555555555556,
             "#d8576b"
            ],
            [
             0.6666666666666666,
             "#ed7953"
            ],
            [
             0.7777777777777778,
             "#fb9f3a"
            ],
            [
             0.8888888888888888,
             "#fdca26"
            ],
            [
             1,
             "#f0f921"
            ]
           ]
          },
          "colorway": [
           "#636efa",
           "#EF553B",
           "#00cc96",
           "#ab63fa",
           "#FFA15A",
           "#19d3f3",
           "#FF6692",
           "#B6E880",
           "#FF97FF",
           "#FECB52"
          ],
          "font": {
           "color": "#2a3f5f"
          },
          "geo": {
           "bgcolor": "white",
           "lakecolor": "white",
           "landcolor": "#E5ECF6",
           "showlakes": true,
           "showland": true,
           "subunitcolor": "white"
          },
          "hoverlabel": {
           "align": "left"
          },
          "hovermode": "closest",
          "mapbox": {
           "style": "light"
          },
          "paper_bgcolor": "white",
          "plot_bgcolor": "#E5ECF6",
          "polar": {
           "angularaxis": {
            "gridcolor": "white",
            "linecolor": "white",
            "ticks": ""
           },
           "bgcolor": "#E5ECF6",
           "radialaxis": {
            "gridcolor": "white",
            "linecolor": "white",
            "ticks": ""
           }
          },
          "scene": {
           "xaxis": {
            "backgroundcolor": "#E5ECF6",
            "gridcolor": "white",
            "gridwidth": 2,
            "linecolor": "white",
            "showbackground": true,
            "ticks": "",
            "zerolinecolor": "white"
           },
           "yaxis": {
            "backgroundcolor": "#E5ECF6",
            "gridcolor": "white",
            "gridwidth": 2,
            "linecolor": "white",
            "showbackground": true,
            "ticks": "",
            "zerolinecolor": "white"
           },
           "zaxis": {
            "backgroundcolor": "#E5ECF6",
            "gridcolor": "white",
            "gridwidth": 2,
            "linecolor": "white",
            "showbackground": true,
            "ticks": "",
            "zerolinecolor": "white"
           }
          },
          "shapedefaults": {
           "line": {
            "color": "#2a3f5f"
           }
          },
          "ternary": {
           "aaxis": {
            "gridcolor": "white",
            "linecolor": "white",
            "ticks": ""
           },
           "baxis": {
            "gridcolor": "white",
            "linecolor": "white",
            "ticks": ""
           },
           "bgcolor": "#E5ECF6",
           "caxis": {
            "gridcolor": "white",
            "linecolor": "white",
            "ticks": ""
           }
          },
          "title": {
           "x": 0.05
          },
          "xaxis": {
           "automargin": true,
           "gridcolor": "white",
           "linecolor": "white",
           "ticks": "",
           "title": {
            "standoff": 15
           },
           "zerolinecolor": "white",
           "zerolinewidth": 2
          },
          "yaxis": {
           "automargin": true,
           "gridcolor": "white",
           "linecolor": "white",
           "ticks": "",
           "title": {
            "standoff": 15
           },
           "zerolinecolor": "white",
           "zerolinewidth": 2
          }
         }
        },
        "title": {
         "text": "Capital Evolution"
        },
        "xaxis": {
         "title": {
          "text": "Date"
         }
        },
        "yaxis": {
         "title": {
          "text": "Capital"
         }
        }
       }
      }
     },
     "metadata": {},
     "output_type": "display_data"
    }
   ],
   "source": [
    "# Grafica evolucion de capital, MAOC\n",
    "vs.plot_DDC_DUC(dt.evo_c_m)"
   ]
  },
  {
   "cell_type": "markdown",
   "metadata": {},
   "source": [
    "En este segundo grupo de graficos donde se observan el comportamiento del capital hay dos puntos interesantes a destacar. \n",
    "\n",
    "+ El primer punto es que mientras uno de los integrantes tiene sus dos puntos de Draw Up y Drown Down estaticos, los otros poseen rangos de capital, lo cual puede interpertarse como ausencia de inversion en ese periodo de tiempo o como una gran coincidencia en los valores del capital. \n",
    "\n",
    "+ El segundo punto es que los tres integrantes tienen sus puntos en distintos niveles a partir del capital inicial. Cuauhtemoc posee su DU por encima del capital inicial y su DD por debajo del mismo,  Esteban presenta tanto su DU como DD por encima del capital inicial, y por el contrario, Marco presenta su DU y DD por debajo del capital inicial. Este es un punto interesante, ya que se aprecia la tendencia del capital de manera intriseca. "
   ]
  },
  {
   "cell_type": "markdown",
   "metadata": {},
   "source": [
    "# <font color= #6B6B6B> <font size = 6> 6. References </font>"
   ]
  },
  {
   "cell_type": "markdown",
   "metadata": {},
   "source": [
    "<hr style=\"border:0.02in solid gray\"> </hr>"
   ]
  },
  {
   "cell_type": "markdown",
   "metadata": {},
   "source": [
    "Proyecto Laboratorio 3. https://github.com/CuauhtemocCC/MyST_LAB_3_E3. (2022)."
   ]
  },
  {
   "cell_type": "markdown",
   "metadata": {},
   "source": [
    "<br>"
   ]
  }
 ],
 "metadata": {
  "kernelspec": {
   "display_name": "Python 3.8.5 ('base')",
   "language": "python",
   "name": "python3"
  },
  "language_info": {
   "codemirror_mode": {
    "name": "ipython",
    "version": 3
   },
   "file_extension": ".py",
   "mimetype": "text/x-python",
   "name": "python",
   "nbconvert_exporter": "python",
   "pygments_lexer": "ipython3",
   "version": "3.8.5"
  },
  "vscode": {
   "interpreter": {
    "hash": "40d3a090f54c6569ab1632332b64b2c03c39dcf918b08424e98f38b5ae0af88f"
   }
  }
 },
 "nbformat": 4,
 "nbformat_minor": 4
}
